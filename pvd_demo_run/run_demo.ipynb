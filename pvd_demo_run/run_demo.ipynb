{
 "cells": [
  {
   "cell_type": "code",
   "execution_count": 1,
   "id": "620f9019",
   "metadata": {
    "ExecuteTime": {
     "end_time": "2023-06-04T22:38:56.364216Z",
     "start_time": "2023-06-04T22:38:56.241091Z"
    }
   },
   "outputs": [
    {
     "name": "stdout",
     "output_type": "stream",
     "text": [
      "DNN_combine.pth  models\t\t__pycache__\trun_demo.py\r\n",
      "DNN.py\t\t plots_demo.py\trun_demo.ipynb\tSave_GP_NN_Surrogates.ipynb\r\n"
     ]
    }
   ],
   "source": [
    "!ls"
   ]
  },
  {
   "cell_type": "code",
   "execution_count": null,
   "id": "dbdeb35e",
   "metadata": {},
   "outputs": [],
   "source": [
    "import os\n",
    "import re\n",
    "import torch\n",
    "import numpy as np\n",
    "import pandas as pd\n",
    "import warnings\n",
    "import sys\n",
    "import random\n",
    "import pickle\n",
    "sys.path.append('../../')\n",
    "warnings.filterwarnings(\"ignore\")\n",
    "random.seed(10)\n",
    "\n",
    "from DNN import Stress_resistivity_Model as Model\n",
    "from src.functions import latin_hypercube_2d_uniform\n",
    "from src.kernels import rbf\n",
    "from src.acquisition_func import ucb\n",
    "from src.gaussian_process import Gaussain_Process\n",
    "from src.bayesopt import Bayesopt\n",
    "from src.optimizers import tune_hyperparam_parallel\n",
    "from stress_optimisation.load_exp_data import stress_resist_data_loader, append_new_data"
   ]
  },
  {
   "cell_type": "code",
   "execution_count": null,
   "id": "1363507a",
   "metadata": {},
   "outputs": [],
   "source": [
    "# required for scaling don't change\n",
    "# (min max) pairs in each dimension\n",
    "parameter_space = np.array([[2, 23], [50, 750]])\n",
    "\n",
    "explore_K = 0.5\n",
    "Ninit_samples = 15\n",
    "RESULT_DIR = \"/home/ashriva/work/Results/bayesopts/Bayes_opt_demo/GP_i\"+str(Ninit_samples)+\"k\"+str(explore_K)+\"/\"\n",
    "\n",
    "isExist = os.path.exists(RESULT_DIR)\n",
    "if not isExist:\n",
    "    os.makedirs(RESULT_DIR)"
   ]
  },
  {
   "cell_type": "code",
   "execution_count": null,
   "id": "bd37e0a0",
   "metadata": {},
   "outputs": [],
   "source": [
    "def stress_obj(stress, stress_grad, resistivity):\n",
    "\n",
    "    #     def Relu(x):\n",
    "    #         return x * (x > 0)\n",
    "\n",
    "    def modified_sigmoid(x, d):\n",
    "\n",
    "        x = d - x\n",
    "        return 1 / (1 + np.exp(-5 * x))\n",
    "\n",
    "    def cutoff_func(x, d):\n",
    "\n",
    "        def sigmoid(x):\n",
    "\n",
    "            return 1 / (1 + np.exp(-x))\n",
    "\n",
    "        f = sigmoid(d + x) + sigmoid(d - x)\n",
    "        f = (f - 1)\n",
    "\n",
    "        return f\n",
    "\n",
    "    def pos_grad_func(x):\n",
    "\n",
    "        return (np.tanh(x) + 1) / 2\n",
    "\n",
    "    def mingrad_func(x):\n",
    "\n",
    "        return (-x / 1900 + 1)\n",
    "\n",
    "    min_grad_criteria = mingrad_func(stress_grad)\n",
    "    pos_grad_criteria = pos_grad_func(stress_grad)\n",
    "    stress_cutoff = cutoff_func(stress, 300)\n",
    "    resistivity_cutoff = modified_sigmoid(resistivity, 3)\n",
    "\n",
    "    switch = pos_grad_criteria * stress_cutoff * resistivity_cutoff\n",
    "    obj = min_grad_criteria * switch\n",
    "\n",
    "    return obj, min_grad_criteria, pos_grad_criteria, stress_cutoff, resistivity_cutoff"
   ]
  },
  {
   "cell_type": "code",
   "execution_count": null,
   "id": "1c985f0f",
   "metadata": {},
   "outputs": [],
   "source": [
    "class GP_surrogate_model:\n",
    "\n",
    "    def __init__(self):\n",
    "\n",
    "        with open('demo_gp_objects.pkl', 'rb') as file:\n",
    "            data = pickle.load(file)\n",
    "            self.gp_stress = data['stress']\n",
    "            self.gp_resist = data['resist']\n",
    "\n",
    "    def __call__(self, x):\n",
    "\n",
    "        y1, _ = self.gp_stress.posterior(x)\n",
    "        # y1 += .1 * np.random.normal(0, 1, size=y1.shape)\n",
    "\n",
    "        y2, _ = self.gp_resist.posterior(x)\n",
    "        # y2 += .1 * np.random.normal(0, 1, size=y2.shape)\n",
    "\n",
    "        return y1, y2"
   ]
  },
  {
   "cell_type": "markdown",
   "id": "80de5f55",
   "metadata": {
    "code_folding": [
     0
    ]
   },
   "source": [
    "# Initial samples uusing LHS sampling"
   ]
  },
  {
   "cell_type": "code",
   "execution_count": null,
   "id": "710cd1a3",
   "metadata": {},
   "outputs": [],
   "source": [
    "x_train = latin_hypercube_2d_uniform(\n",
    "    parameter_space[0], parameter_space[1], Ninit_samples)\n",
    "stress_y_train, resist_y_train = blackbox_func(x_train)"
   ]
  },
  {
   "cell_type": "markdown",
   "id": "cf41931c",
   "metadata": {},
   "source": [
    "# Bayesopt setup"
   ]
  },
  {
   "cell_type": "code",
   "execution_count": null,
   "id": "ca464bd4",
   "metadata": {},
   "outputs": [],
   "source": [
    "# [sigma, l_pressure, l_power]\n",
    "l_stress = [1, 0.3, 0.45]\n",
    "l_resist = l_stress\n",
    "l_obj = l_resist\n",
    "\n",
    "# Gaussian process interpolator for stress\n",
    "kernel_stress = rbf(l_stress)\n",
    "GP_stress = Gaussain_Process(kernel_stress, parameter_space)\n",
    "GP_stress.noise = 0.12\n",
    "\n",
    "# # Gaussian process interpolator for resistance\n",
    "kernel_resist = rbf(l_resist)\n",
    "GP_resist = Gaussain_Process(kernel_resist, parameter_space)\n",
    "GP_resist.noise = 0.058\n",
    "\n",
    "# Create Gausian process for desired objective function\n",
    "kernel_obj = rbf(l_obj)\n",
    "GP_obj = Gaussain_Process(kernel_obj, parameter_space)\n",
    "GP_obj.noise = 1e-3\n",
    "\n",
    "# Create blackbox function for quering stress\n",
    "blackbox_func = GP_surrogate_model()\n",
    "\n",
    "# Define Bayesopt\n",
    "bopt = Bayesopt()\n",
    "search_bounds = parameter_space\n",
    "acq_func = ucb(GP_obj)\n",
    "acq_func.k = explore_K\n"
   ]
  },
  {
   "cell_type": "markdown",
   "id": "c2b2277c",
   "metadata": {},
   "source": [
    "# Run experiments"
   ]
  },
  {
   "cell_type": "code",
   "execution_count": null,
   "id": "e0637296",
   "metadata": {},
   "outputs": [],
   "source": [
    "GP_stress.reset()\n",
    "GP_stress.add_observation(x_train, stress_y_train, scale=True)\n",
    "GP_stress.fit()\n",
    "\n",
    "GP_resist.reset()\n",
    "GP_resist.add_observation(x_train, resist_y_train, scale=True)\n",
    "GP_resist.fit()\n",
    "\n",
    "GP_obj.reset()\n",
    "_, _, stress_mu_grad_ = GP_stress.posterior(x_train, calc_grad=True)\n",
    "_, _ = GP_resist.posterior(x_train)\n",
    "obj_val, _, _, _, _ = stress_obj(stress_y_train, stress_mu_grad_, resist_y_train)\n",
    "GP_obj.add_observation(x_train, obj_val, scale=True)\n",
    "GP_obj.fit()\n",
    "\n",
    "# Bayesopt\n",
    "# Suggest next point\n",
    "x_next, acq_val = bopt.next_point(acq_func, search_bounds)\n",
    "print((x_next[0], round(x_next[1], 3)), acq_val)\n",
    "x_next = x_next.reshape(1, -1)"
   ]
  },
  {
   "cell_type": "code",
   "execution_count": null,
   "id": "81e08867",
   "metadata": {},
   "outputs": [],
   "source": [
    "# Query data from the models\n",
    "stress_next, resist_next = blackbox_func(x_next)\n",
    "stress_next = stress_next.reshape(1, -1)\n",
    "resist_next = resist_next.reshape(1, -1)\n",
    "\n",
    "# Update to existing data\n",
    "x_train = np.append(x_train, x_next, axis=0)\n",
    "resist_y_train = np.append(resist_y_train, stress_next, axis=0)\n",
    "stress_y_train = np.append(stress_y_train, stress_next, axis=0)"
   ]
  }
 ],
 "metadata": {
  "hide_input": false,
  "kernelspec": {
   "display_name": "Python [conda env:mlenv2] *",
   "language": "python",
   "name": "conda-env-mlenv2-py"
  },
  "language_info": {
   "codemirror_mode": {
    "name": "ipython",
    "version": 3
   },
   "file_extension": ".py",
   "mimetype": "text/x-python",
   "name": "python",
   "nbconvert_exporter": "python",
   "pygments_lexer": "ipython3",
   "version": "3.9.2"
  },
  "toc": {
   "base_numbering": 1,
   "nav_menu": {},
   "number_sections": true,
   "sideBar": true,
   "skip_h1_title": false,
   "title_cell": "Table of Contents",
   "title_sidebar": "Contents",
   "toc_cell": false,
   "toc_position": {},
   "toc_section_display": true,
   "toc_window_display": false
  },
  "varInspector": {
   "cols": {
    "lenName": 16,
    "lenType": 16,
    "lenVar": 40
   },
   "kernels_config": {
    "python": {
     "delete_cmd_postfix": "",
     "delete_cmd_prefix": "del ",
     "library": "var_list.py",
     "varRefreshCmd": "print(var_dic_list())"
    },
    "r": {
     "delete_cmd_postfix": ") ",
     "delete_cmd_prefix": "rm(",
     "library": "var_list.r",
     "varRefreshCmd": "cat(var_dic_list()) "
    }
   },
   "types_to_exclude": [
    "module",
    "function",
    "builtin_function_or_method",
    "instance",
    "_Feature"
   ],
   "window_display": false
  }
 },
 "nbformat": 4,
 "nbformat_minor": 5
}
