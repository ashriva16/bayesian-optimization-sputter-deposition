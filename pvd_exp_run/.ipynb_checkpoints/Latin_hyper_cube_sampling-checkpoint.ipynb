{
 "cells": [
  {
   "cell_type": "markdown",
   "id": "c0dfbc70",
   "metadata": {},
   "source": [
    "Reference: https://ndcbe.github.io/cbe67701-uncertainty-quantification/07.02-Latin-Hypercube-sampling.html"
   ]
  },
  {
   "cell_type": "markdown",
   "id": "977fd2ab",
   "metadata": {},
   "source": [
    "Latin hypercube sampling (LHS) is a statistical method for generating a near random samples with equal intervals.\n",
    "\n",
    "To generalize the Latin square to a hypercube, we define a X = (X1, . . . , Xp) as a collection of p independent random variables. To generate N samples, we divide the domain of each Xj in N intervals. In total there are Np such intervals. The intervals are defined by the N + 1 edges:"
   ]
  },
  {
   "cell_type": "code",
   "execution_count": 30,
   "id": "788658b0",
   "metadata": {
    "ExecuteTime": {
     "end_time": "2023-04-04T22:40:39.973680Z",
     "start_time": "2023-04-04T22:40:39.969569Z"
    }
   },
   "outputs": [],
   "source": [
    "def latin_hypercube_2d_uniform(n):\n",
    "\n",
    "    power_range = [50, 750]\n",
    "    pressure_range = [2, 23]    \n",
    "    \n",
    "    lower_limits=np.arange(power_range[0],power_range[1])/n\n",
    "    upper_limits=np.arange(1,n+1)/n\n",
    "    points=np.random.uniform(low=lower_limits,high=upper_limits,size=[1,n]).T\n",
    "\n",
    "    \n",
    "#     np.random.shuffle(points[:,0])\n",
    "#     print(points.shape)\n",
    "    return points"
   ]
  },
  {
   "cell_type": "code",
   "execution_count": 31,
   "id": "ae902348",
   "metadata": {
    "ExecuteTime": {
     "end_time": "2023-04-04T22:40:42.742776Z",
     "start_time": "2023-04-04T22:40:42.594559Z"
    }
   },
   "outputs": [
    {
     "name": "stdout",
     "output_type": "stream",
     "text": [
      "(20, 1)\n"
     ]
    },
    {
     "data": {
      "image/png": "[encoded data removed]",
      "text/plain": [
       "<Figure size 500x500 with 1 Axes>"
      ]
     },
     "metadata": {},
     "output_type": "display_data"
    }
   ],
   "source": [
    "import matplotlib.pyplot as plt\n",
    "\n",
    "n=20\n",
    "p=latin_hypercube_2d_uniform(n)\n",
    "plt.figure(figsize=[5,5])\n",
    "plt.xlim([0,1])\n",
    "plt.ylim([0,1])\n",
    "plt.scatter(p[:,0],p[:,0],c='r')\n",
    "\n",
    "for i in np.arange(0,1,1/n):\n",
    "    plt.axvline(i)\n",
    "    plt.axhline(i)\n",
    "plt.show()"
   ]
  }
 ],
 "metadata": {
  "hide_input": false,
  "kernelspec": {
   "display_name": "Python [conda env:mlenv2] *",
   "language": "python",
   "name": "conda-env-mlenv2-py"
  },
  "language_info": {
   "codemirror_mode": {
    "name": "ipython",
    "version": 3
   },
   "file_extension": ".py",
   "mimetype": "text/x-python",
   "name": "python",
   "nbconvert_exporter": "python",
   "pygments_lexer": "ipython3",
   "version": "3.9.2"
  },
  "toc": {
   "base_numbering": 1,
   "nav_menu": {},
   "number_sections": true,
   "sideBar": true,
   "skip_h1_title": false,
   "title_cell": "Table of Contents",
   "title_sidebar": "Contents",
   "toc_cell": false,
   "toc_position": {},
   "toc_section_display": true,
   "toc_window_display": false
  },
  "varInspector": {
   "cols": {
    "lenName": 16,
    "lenType": 16,
    "lenVar": 40
   },
   "kernels_config": {
    "python": {
     "delete_cmd_postfix": "",
     "delete_cmd_prefix": "del ",
     "library": "var_list.py",
     "varRefreshCmd": "print(var_dic_list())"
    },
    "r": {
     "delete_cmd_postfix": ") ",
     "delete_cmd_prefix": "rm(",
     "library": "var_list.r",
     "varRefreshCmd": "cat(var_dic_list()) "
    }
   },
   "types_to_exclude": [
    "module",
    "function",
    "builtin_function_or_method",
    "instance",
    "_Feature"
   ],
   "window_display": false
  }
 },
 "nbformat": 4,
 "nbformat_minor": 5
}
