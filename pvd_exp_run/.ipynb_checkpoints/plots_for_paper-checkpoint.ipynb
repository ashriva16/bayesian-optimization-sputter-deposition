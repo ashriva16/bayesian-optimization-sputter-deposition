{
 "cells": [
  {
   "cell_type": "code",
   "execution_count": 1,
   "id": "78924379",
   "metadata": {
    "ExecuteTime": {
     "end_time": "2024-05-02T05:22:29.475528Z",
     "start_time": "2024-05-02T05:22:28.282514Z"
    }
   },
   "outputs": [
    {
     "name": "stdout",
     "output_type": "stream",
     "text": [
      "Current Working Directory: /home/ashriva/work/bfp_repo/ankit/bfp_projects/design_of_experiments/experiments/code/pvd_exp_run\n"
     ]
    },
    {
     "data": {
      "text/html": [
       "<style>.container { width:100% !important; }</style>"
      ],
      "text/plain": [
       "<IPython.core.display.HTML object>"
      ]
     },
     "metadata": {},
     "output_type": "display_data"
    }
   ],
   "source": [
    "import warnings\n",
    "warnings.filterwarnings('ignore')\n",
    "\n",
    "import numpy as np \n",
    "import scipy as sp\n",
    "from scipy.stats import multivariate_normal\n",
    "import matplotlib.pyplot as plt\n",
    "import plotly.express as px\n",
    "import plotly.graph_objects as go\n",
    "import h5py\n",
    "import seaborn as sns\n",
    "import scienceplots\n",
    "import pickle\n",
    "import pdb\n",
    "\n",
    "import sys\n",
    "sys.path.append('../')\n",
    "from run import stress_obj\n",
    "\n",
    "from IPython.display import display, HTML\n",
    "display(HTML(\"<style>.container { width:100% !important; }</style>\"))"
   ]
  },
  {
   "cell_type": "code",
   "execution_count": 2,
   "id": "6110925c",
   "metadata": {
    "ExecuteTime": {
     "end_time": "2024-05-02T05:22:29.482433Z",
     "start_time": "2024-05-02T05:22:29.478405Z"
    }
   },
   "outputs": [],
   "source": [
    "project_dir = \"../../\"\n",
    "preprocessed_dir = project_dir+\"data/processed/\"\n",
    "save_fig = project_dir + \"results/new/\"\n",
    "RESULT_DIR = project_dir+\"results/final_run/\"\n",
    "\n",
    "NO_OLD_DATA = 78\n",
    "stress_range = [-500, 3000]\n",
    "stress_gradient_range = [-500, 1000]\n",
    "resist_range = [0, 30]\n",
    "power_range = [50, 750]\n",
    "pressure_range = [2, 23]\n",
    "obj_range = [-2.5, 2.5]"
   ]
  },
  {
   "cell_type": "code",
   "execution_count": 3,
   "id": "0df34358",
   "metadata": {
    "ExecuteTime": {
     "end_time": "2024-05-02T05:22:29.492612Z",
     "start_time": "2024-05-02T05:22:29.484018Z"
    }
   },
   "outputs": [],
   "source": [
    "with h5py.File(preprocessed_dir+'MO_processed.h5','r') as hf:\n",
    "    stress_data = hf['stress/values'][:]\n",
    "    resistance_data = hf['resistance/values'][:]"
   ]
  },
  {
   "cell_type": "code",
   "execution_count": 4,
   "id": "400ae700",
   "metadata": {
    "ExecuteTime": {
     "end_time": "2024-05-02T05:22:29.497837Z",
     "start_time": "2024-05-02T05:22:29.494723Z"
    }
   },
   "outputs": [],
   "source": [
    "parameter_space = np.array([[2, 23], [50, 750]])\n",
    "# Stress plots (1D)\n",
    "resistance_used = resistance_data[:,-1]\n",
    "stress_used = stress_data[:,-1]\n",
    "power_array = stress_data[:,5]\n",
    "pressure_array = stress_data[:,4]"
   ]
  },
  {
   "cell_type": "code",
   "execution_count": 5,
   "id": "2b2e3142",
   "metadata": {
    "ExecuteTime": {
     "end_time": "2024-05-02T05:22:29.510230Z",
     "start_time": "2024-05-02T05:22:29.499373Z"
    },
    "code_folding": [
     0
    ]
   },
   "outputs": [],
   "source": [
    "class Spline:\n",
    "\n",
    "    def __init__(self, parameter_bound, y_bounds, degree=[3,3]):\n",
    "        \n",
    "        self.bounds = parameter_bound\n",
    "        self.y_bounds = y_bounds\n",
    "        self.degree = degree\n",
    "        \n",
    "        self.tck = None     \n",
    "       \n",
    "        self.X_obs = None\n",
    "        self.Y_obs = None\n",
    "        \n",
    "        self.X_obs_std = None\n",
    "        self.Y_obs_std = None\n",
    "    \n",
    "    def scale_observations(self):\n",
    "    \n",
    "        Nx = self.X_obs.shape[1]\n",
    "        assert self.X_obs.shape[1] == self.bounds.shape[1]\n",
    "        \n",
    "        self.X_obs_std = np.zeros(self.X_obs.shape)\n",
    "        for i in range(self.bounds.shape[1]):\n",
    "            self.X_obs_std[:,i] = (self.X_obs[:,i] - self.bounds[0,i])/(self.bounds[1,i] - self.bounds[0,i])\n",
    "        \n",
    "        self.Y_obs_std = self.Y_obs\n",
    "\n",
    "    def add_observation(self, x, y):\n",
    "        \"\"\"\n",
    "            Adding new data to the model\n",
    "\n",
    "        \"\"\"\n",
    "        x = x.reshape(x.shape[0],-1)\n",
    "        y = y.reshape(y.shape[0],-1)\n",
    "        \n",
    "        if self.X_obs is None:\n",
    "            self.X_obs = np.array(x).reshape(-1,x.shape[1])\n",
    "            self.Y_obs = np.array(y).reshape(-1,y.shape[1])\n",
    "            \n",
    "        else:\n",
    "            self.X_obs = np.append(self.X_obs,\n",
    "                                   np.array(x).reshape(-1,x.shape[1]), axis=0)\n",
    "            self.Y_obs = np.append(self.Y_obs,\n",
    "                                   np.array(y).reshape(-1,y.shape[1]), axis=0)            \n",
    "        self.scale_observations()\n",
    "\n",
    "    def fit(self):\n",
    "             \n",
    "        self.txk = sp.interpolate.bisplrep(self.X_obs_std[:,0], self.X_obs_std[:,1], \n",
    "                                      self.Y_obs_std, \n",
    "                                      xb=0, xe=1,\n",
    "                                      kx=self.degree[0], ky=self.degree[1],\n",
    "                                      yb=self.y_bounds[0], ye=self.y_bounds[1]\n",
    "                                     )\n",
    "\n",
    "    def predict(self, x):\n",
    "        \n",
    "        x = x.reshape(x.shape[0],-1)\n",
    "        assert x.shape[1] == self.X_obs.shape[1]\n",
    "                \n",
    "        # scale the test input\n",
    "        x_std = np.copy(x)\n",
    "        for i in range(self.bounds.shape[1]):\n",
    "            x_std[:,i] = (x_std[:,i] - self.bounds[0,i])/(self.bounds[1,i] - self.bounds[0,i])\n",
    "            \n",
    "        val = sp.interpolate.bisplev(x_std[:,0], x_std[:,1],self.txk)\n",
    "        val_grad = sp.interpolate.bisplev(x_std[:,0], x_std[:,1],self.txk, dx=1, dy=0)\n",
    "        val_grad = val_grad / (self.bounds[1,0] - self.bounds[0,0])\n",
    "        \n",
    "        return val, val_grad"
   ]
  },
  {
   "cell_type": "code",
   "execution_count": 6,
   "id": "b1bfb98c",
   "metadata": {
    "ExecuteTime": {
     "end_time": "2024-05-02T05:22:29.514098Z",
     "start_time": "2024-05-02T05:22:29.511547Z"
    },
    "code_folding": [
     2
    ]
   },
   "outputs": [],
   "source": [
    "import matplotlib as mpl\n",
    "\n",
    "def mpl_default():\n",
    "    \"\"\"\n",
    "    Some function to srestore default values\n",
    "    \"\"\"\n",
    "    mpl.rcParams.update(mpl.rcParamsDefault)\n",
    "    plt.style.use('default')"
   ]
  },
  {
   "cell_type": "code",
   "execution_count": 7,
   "id": "fd888d3e",
   "metadata": {
    "ExecuteTime": {
     "end_time": "2024-05-02T05:22:29.520612Z",
     "start_time": "2024-05-02T05:22:29.515330Z"
    },
    "code_folding": []
   },
   "outputs": [],
   "source": [
    "def set_scientific_format(width):\n",
    "    \"\"\"Set figure dimensions to avoid scaling in LaTeX.\n",
    "    \n",
    "    Always single figure, no matter what\n",
    "\n",
    "    Parameters\n",
    "    ----------\n",
    "    width: float or string\n",
    "            Document width in points, or string of predined document type \n",
    "    fraction: float, optional\n",
    "            Fraction of the width which you wish the figure to occupy\n",
    "    subplots: array-like, optional\n",
    "            The number of rows and columns of subplots.\n",
    "    Returns\n",
    "    -------\n",
    "    fig_dim: tuple\n",
    "            Dimensions of figure in inches\n",
    "    \"\"\"\n",
    "    \n",
    "    plt.rcParams.update(plt.rcParamsDefault)\n",
    "    \n",
    "    if width == 'thesis':\n",
    "        width_pt = 426.79135\n",
    "    elif width == 'beamer':\n",
    "        width_pt = 307.28987\n",
    "    else:\n",
    "        width_pt = width\n",
    "\n",
    "    # Width of figure (in pts)\n",
    "    fig_width_pt = width_pt\n",
    "\n",
    "    # Golden ratio to set aesthetic figure height\n",
    "    aspect_ratio = (5**.5 - 1) / 2\n",
    "#     aspect_ratio = 3/4\n",
    "#     aspect_ratio = 9/16\n",
    "#     aspect_ratio = 1\n",
    "    \n",
    "    # Convert from pt to inches\n",
    "    inches_per_pt = 1 / 72.27\n",
    "    # Figure width in inches\n",
    "    fig_width_in = fig_width_pt * inches_per_pt\n",
    "    # Figure height in inches\n",
    "    fig_height_in = fig_width_in * aspect_ratio\n",
    "    \n",
    "    base_font_size = width * 9 / (20.5 * 12)\n",
    "    line_width = width * 1.5 / (20.5 * 12)\n",
    "    print(base_font_size)\n",
    "    \n",
    "    ## -------------------------------------------------------------------\n",
    "#     plt.style.use('science')\n",
    "    plt.style.use('ieee')\n",
    "    tex_fonts = {\n",
    "        # Use LaTeX to write all text\n",
    "        \"text.usetex\": True,\n",
    "        \"text.latex.preamble\": [r\"\\usepackage{amsmath}\"],\n",
    "        \"font.family\": \"serif\",\n",
    "        \"font.size\": base_font_size,\n",
    "        # Use 10pt font in plots, to match 10pt font in document\n",
    "        \"axes.labelsize\": base_font_size+2,\n",
    "        \"axes.titlesize\" : 'large',\n",
    "        \"legend.fontsize\": base_font_size,\n",
    "        # Make the fonts of ticks  a little smaller\n",
    "        \"xtick.labelsize\": base_font_size,\n",
    "        \"ytick.labelsize\": base_font_size,\n",
    "        \"axes.labelweight\": \"bold\",  # Set font weight to bold\n",
    "        # Line\n",
    "        \"lines.linewidth\": line_width,\n",
    "    }\n",
    "    plt.rcParams.update(tex_fonts)    \n",
    "#     plt.style.use('grayscale')\n",
    "\n",
    "    return (fig_width_in, fig_height_in, tex_fonts)"
   ]
  },
  {
   "cell_type": "code",
   "execution_count": 8,
   "id": "6991e056",
   "metadata": {
    "ExecuteTime": {
     "end_time": "2024-05-02T05:22:29.530207Z",
     "start_time": "2024-05-02T05:22:29.522441Z"
    }
   },
   "outputs": [
    {
     "name": "stdout",
     "output_type": "stream",
     "text": [
      "9.0\n"
     ]
    },
    {
     "data": {
      "text/plain": [
       "(3.4039020340390205,\n",
       " 2.1037271514110163,\n",
       " {'text.usetex': True,\n",
       "  'text.latex.preamble': ['\\\\usepackage{amsmath}'],\n",
       "  'font.family': 'serif',\n",
       "  'font.size': 9.0,\n",
       "  'axes.labelsize': 11.0,\n",
       "  'axes.titlesize': 'large',\n",
       "  'legend.fontsize': 9.0,\n",
       "  'xtick.labelsize': 9.0,\n",
       "  'ytick.labelsize': 9.0,\n",
       "  'axes.labelweight': 'bold',\n",
       "  'lines.linewidth': 1.5})"
      ]
     },
     "execution_count": 8,
     "metadata": {},
     "output_type": "execute_result"
    }
   ],
   "source": [
    "set_scientific_format(246)"
   ]
  },
  {
   "cell_type": "markdown",
   "id": "eadc3ea9",
   "metadata": {},
   "source": [
    "# Fig. 1"
   ]
  },
  {
   "cell_type": "code",
   "execution_count": 9,
   "id": "8b4ffde3",
   "metadata": {
    "ExecuteTime": {
     "end_time": "2024-05-02T05:22:29.537854Z",
     "start_time": "2024-05-02T05:22:29.532200Z"
    },
    "code_folding": [
     0,
     11,
     15,
     19
    ]
   },
   "outputs": [],
   "source": [
    "def stress_cutoff_func(x, d):\n",
    "\n",
    "    def sigmoid(x):\n",
    "\n",
    "        return 1 / (1 + np.exp(-x))\n",
    "\n",
    "    f = sigmoid(d+x)+sigmoid(d-x)\n",
    "    f = (f-1)\n",
    "\n",
    "    return f\n",
    "\n",
    "def pos_grad_func(x):\n",
    "\n",
    "    return (np.tanh(x)+1)/2\n",
    "\n",
    "def mingrad_func(x):\n",
    "\n",
    "    return (-x/1900+1)\n",
    "\n",
    "def modified_sigmoid(x, d):\n",
    "\n",
    "    x = d-x\n",
    "    return 1 / (1 + np.exp(-5*x))"
   ]
  },
  {
   "cell_type": "code",
   "execution_count": 10,
   "id": "6f8cc54e",
   "metadata": {
    "ExecuteTime": {
     "end_time": "2024-05-02T05:22:29.553277Z",
     "start_time": "2024-05-02T05:22:29.542226Z"
    },
    "code_folding": [
     0,
     21
    ]
   },
   "outputs": [],
   "source": [
    "def plot_1D_illustrations(x_array, property_array, file_name, property_name):\n",
    "\n",
    "    details = set_scientific_format(246)\n",
    "    fig_size = details[:2]\n",
    "    tex_fonts = details[2]['font.size']\n",
    "    fig, axs = plt.subplots(1, 1, figsize=fig_size, dpi=600)\n",
    "\n",
    "    axs.plot(x_array, property_array, 'k', lw=details[2][\"lines.linewidth\"])\n",
    "    \n",
    "    axs.tick_params(axis='both', which='major')\n",
    "    axs.tick_params(axis='both', which='minor')\n",
    "    axs.set_xlabel('Pressure (mTorr)')\n",
    "    axs.grid(True)\n",
    "\n",
    "    axs.set_ylabel(r'{'+property_name+'}')\n",
    "\n",
    "    fig.tight_layout()\n",
    "#     plt.show()\n",
    "    fig.savefig(save_fig+'/'+file_name+'.pdf', bbox_inches='tight', pad_inches=0)\n",
    "    plt.close()\n",
    "\n",
    "def plot_1D_fit(x_array, property_array, x_obs, y_obs, file_name, property_name):\n",
    "\n",
    "    details = set_scientific_format(246)\n",
    "    fig_size = details[:2]\n",
    "    tex_fonts = details[2]['font.size']\n",
    "    fig, axs = plt.subplots(1, 1, figsize=fig_size, dpi=600)\n",
    "\n",
    "    axs.plot(x_array, property_array, 'k', lw=details[2][\"lines.linewidth\"])\n",
    "    axs.scatter(x_obs, y_obs)\n",
    "\n",
    "    axs.tick_params(axis='both', which='major')\n",
    "    axs.tick_params(axis='both', which='minor')\n",
    "    axs.set_xlabel('Argon Pressure (mTorr)')\n",
    "    axs.grid(True)\n",
    "\n",
    "    axs.set_ylabel(r'{'+property_name+'}')\n",
    "\n",
    "    fig.tight_layout()\n",
    "#     plt.show()\n",
    "    fig.savefig(save_fig+'/'+file_name+'.pdf', bbox_inches='tight', pad_inches=0)\n",
    "    plt.close()"
   ]
  },
  {
   "cell_type": "code",
   "execution_count": 11,
   "id": "481b8ce4",
   "metadata": {
    "ExecuteTime": {
     "end_time": "2024-05-02T05:22:31.149879Z",
     "start_time": "2024-05-02T05:22:29.555206Z"
    },
    "code_folding": []
   },
   "outputs": [
    {
     "name": "stdout",
     "output_type": "stream",
     "text": [
      "9.0\n",
      "9.0\n",
      "9.0\n",
      "9.0\n",
      "9.0\n",
      "9.0\n",
      "9.0\n"
     ]
    }
   ],
   "source": [
    "from scipy.interpolate import CubicSpline\n",
    "for pw in [500]:\n",
    "    pw_indx = power_array == pw\n",
    "    pressure = pressure_array[pw_indx]\n",
    "    xx = np.linspace(np.min(pressure), \n",
    "                     np.max(pressure), \n",
    "                     10000)\n",
    "    xx = np.append(xx,[2.,  3.,  5.,  8., 11., 14., 17., 20., 23.])\n",
    "    xx = np.unique(xx)\n",
    "\n",
    "    unique_pressure = sorted(np.unique(pressure))\n",
    "    mean_stress = [np.mean(stress_used[pw_indx][pressure == pr]) for pr in unique_pressure]\n",
    "    cs_stress = CubicSpline(unique_pressure, \n",
    "                            mean_stress)    \n",
    "    stress_mu_sp = cs_stress(xx)\n",
    "    plot_1D_illustrations(xx, stress_mu_sp, \n",
    "                          'stress_illustration', 'Stress (MPa)')\n",
    "    \n",
    "    mean_resistance = [np.mean(resistance_used[pw_indx][pressure == pr]) for pr in unique_pressure]\n",
    "    cs_resistance = CubicSpline(unique_pressure[:-1], \n",
    "                            mean_resistance[:-1])    \n",
    "    resistance_mu_sp = cs_resistance(xx)\n",
    "    plot_1D_illustrations(xx, resistance_mu_sp, \n",
    "                          'resistance_illustration', r'Resistance ($\\Omega$/sq)')        \n",
    "    \n",
    "    \n",
    "    f1 = stress_cutoff_func(stress_mu_sp,300)\n",
    "    plot_1D_illustrations(xx, f1, 'stress_criteria', r'$f_1(\\mathbf{x})$')\n",
    "     \n",
    "    f2 = modified_sigmoid(resistance_mu_sp ,3)    \n",
    "    plot_1D_illustrations(xx, f2, 'resistance_criteria', r'$f_2(\\mathbf{x})$')\n",
    "    \n",
    "    stress_mu_sp_grad = cs_stress(xx, 1)\n",
    "    f3 = pos_grad_func(stress_mu_sp_grad)\n",
    "    plot_1D_illustrations(xx, f3, 'pos_slope_criteria', r'$f_3(\\mathbf{x})$')\n",
    " \n",
    "    f4 = mingrad_func(stress_mu_sp_grad)\n",
    "    plot_1D_illustrations(xx, f4, 'min_slope_criteria', r'$f_4(\\mathbf{x})$')\n",
    "    \n",
    "    plot_1D_illustrations(xx, f1*f2*f3*f4, 'objective_function', r'$f(\\mathbf{x})$')"
   ]
  },
  {
   "cell_type": "code",
   "execution_count": 12,
   "id": "3ebdc7e7",
   "metadata": {
    "ExecuteTime": {
     "end_time": "2024-05-02T05:22:31.156166Z",
     "start_time": "2024-05-02T05:22:31.151785Z"
    },
    "code_folding": [
     0
    ]
   },
   "outputs": [],
   "source": [
    "# for pw in [500]:\n",
    "#     pw_indx = power_array == pw\n",
    "#     pressure = pressure_array[pw_indx]\n",
    "    \n",
    "#     mean_stress = [np.mean(stress_used[pw_indx][pressure == pr]) for pr in sorted(np.unique(pressure))]\n",
    "#     plot_1D_illustrations(sorted(np.unique(pressure)), mean_stress, 'stress_illustration', 'Stress, MPa')\n",
    "    \n",
    "#     mean_resistance = [np.mean(resistance_used[pw_indx][pressure == pr]) for pr in sorted(np.unique(pressure))]\n",
    "#     plot_1D_illustrations(sorted(np.unique(pressure)), mean_resistance, 'resistance_illustration', r'Resistance, $\\Omega$/sq')    \n",
    "    \n",
    "#     f1 = stress_cutoff_func(np.array(mean_stress),300)\n",
    "#     plot_1D_illustrations(sorted(np.unique(pressure)), f1, 'stress_criteria', r'$f_1(\\mathbf{x})$')\n",
    "     \n",
    "#     mean_resistance = [np.mean(resistance_used[pw_indx][pressure == pr]) for pr in sorted(np.unique(pressure))]\n",
    "#     f2 = modified_sigmoid(np.array(mean_resistance) ,3)    \n",
    "#     plot_1D_illustrations(sorted(np.unique(pressure)), f2, 'resistance_criteria', r'$f_2(\\mathbf{x})$')\n",
    "    \n",
    "#     ds = np.gradient(np.array(mean_stress))\n",
    "#     dx = np.gradient(sorted(np.unique(pressure)))\n",
    "#     f3 = pos_grad_func(ds/dx)\n",
    "#     plot_1D_illustrations(sorted(np.unique(pressure)), f3, 'pos_slope_criteria', r'$f_3(\\mathbf{x})$')\n",
    " \n",
    "#     f4 = mingrad_func(ds/dx)\n",
    "#     plot_1D_illustrations(sorted(np.unique(pressure)), f4, 'min_slope_criteria', r'$f_4(\\mathbf{x})$')\n",
    "    \n",
    "#     plot_1D_illustrations(sorted(np.unique(pressure)), f1*f2*f3*f4, 'objective_function', r'$f(\\mathbf{x})$')"
   ]
  },
  {
   "cell_type": "markdown",
   "id": "c3685bd8",
   "metadata": {
    "heading_collapsed": true
   },
   "source": [
    "# Fig. 2"
   ]
  },
  {
   "cell_type": "code",
   "execution_count": 13,
   "id": "677bf682",
   "metadata": {
    "ExecuteTime": {
     "end_time": "2024-05-02T05:22:31.168127Z",
     "start_time": "2024-05-02T05:22:31.158738Z"
    },
    "code_folding": [],
    "hidden": true
   },
   "outputs": [],
   "source": [
    "def plot_1D_observations(x_array, property_array, file_name, property_name):\n",
    "\n",
    "    details = set_scientific_format(246)\n",
    "    fig_size = details[:2]\n",
    "    tex_fonts = details[2]['font.size']\n",
    "    \n",
    "    fig, axs = plt.subplots(1, 1, figsize=fig_size)\n",
    "\n",
    "    markers = ['o', 'v', '*']\n",
    "    for i, pw in enumerate(np.unique(x_array[:,1])):\n",
    "        index = np.isclose(x_array[:,1], pw)\n",
    "        axs.scatter(x_array[index,0], property_array[index], \n",
    "                    label=str(pw)+ \" W\", \n",
    "                    marker = markers[i], \n",
    "                    s=tex_fonts)\n",
    "\n",
    "    axs.tick_params(axis='both', which='major')\n",
    "    axs.tick_params(axis='both', which='minor')\n",
    "    axs.set_xlabel('Pressure (mTorr)')\n",
    "    axs.legend()\n",
    "    axs.grid(True)\n",
    "\n",
    "    axs.set_ylabel(r'{'+property_name+'}')\n",
    "\n",
    "    fig.tight_layout()\n",
    "#     plt.show()\n",
    "    fig.savefig(save_fig+'/'+file_name+'.pdf', bbox_inches='tight', pad_inches=0)\n",
    "    plt.close()"
   ]
  },
  {
   "cell_type": "code",
   "execution_count": 14,
   "id": "ce093983",
   "metadata": {
    "ExecuteTime": {
     "end_time": "2024-05-02T05:22:31.565579Z",
     "start_time": "2024-05-02T05:22:31.170616Z"
    },
    "hidden": true
   },
   "outputs": [
    {
     "name": "stdout",
     "output_type": "stream",
     "text": [
      "9.0\n",
      "9.0\n"
     ]
    }
   ],
   "source": [
    "X_obs = np.load(RESULT_DIR + \"/\" + str(0) + \"_x_obs.npy\")\n",
    "y_stress_obs = np.load(RESULT_DIR + \"/\" + str(0) + \"_y_stress_obs.npy\")\n",
    "y_resist_obs = np.load(RESULT_DIR + \"/\" + str(0) + \"_y_resist_obs.npy\")\n",
    "\n",
    "plot_1D_observations(X_obs, y_stress_obs, \"stress_obs\", \"Stress (MPa)\")\n",
    "plot_1D_observations(X_obs, y_resist_obs, \"resist_obs\", r\"Resistance ($\\Omega$/sq)\")"
   ]
  },
  {
   "cell_type": "markdown",
   "id": "c8f2a75c",
   "metadata": {},
   "source": [
    "# Fig. 4"
   ]
  },
  {
   "cell_type": "code",
   "execution_count": 15,
   "id": "631f553c",
   "metadata": {
    "ExecuteTime": {
     "end_time": "2024-05-02T05:22:31.840438Z",
     "start_time": "2024-05-02T05:22:31.568347Z"
    }
   },
   "outputs": [
    {
     "name": "stdout",
     "output_type": "stream",
     "text": [
      "9.0\n"
     ]
    }
   ],
   "source": [
    "property_name = \"Stress (MPa)\"\n",
    " \n",
    "details = set_scientific_format(246)\n",
    "fig_size = details[:2]\n",
    "tex_fonts = details[2]['font.size']\n",
    "fig, axs = plt.subplots(1, 1, figsize=fig_size)\n",
    "\n",
    "for i in range(1,11):\n",
    "    \n",
    "    prev_size = np.load(RESULT_DIR + \"/\" + str(i-1) + \"_x_obs.npy\").shape[0]\n",
    "    \n",
    "    y_stress_obs = np.load(RESULT_DIR + \"/\" + str(i) + \"_y_stress_obs.npy\")[prev_size:]\n",
    "    run_array = np.repeat(i, y_stress_obs.shape[0])\n",
    "    \n",
    "    axs.scatter(run_array, y_stress_obs, marker = 'o', color='k', s=tex_fonts)\n",
    "\n",
    "axs.tick_params(axis='both', which='major')\n",
    "axs.tick_params(axis='both', which='minor')\n",
    "axs.set_xlabel('Iterations')\n",
    "axs.grid(True)\n",
    "\n",
    "axs.set_ylabel(r'{'+property_name+'}')\n",
    "\n",
    "fig.tight_layout()\n",
    "fig.savefig(save_fig+'/'+\"iter_stress\"+'.pdf', bbox_inches='tight', pad_inches=0)"
   ]
  },
  {
   "cell_type": "code",
   "execution_count": 16,
   "id": "1a6df596",
   "metadata": {
    "ExecuteTime": {
     "end_time": "2024-05-02T05:22:32.117099Z",
     "start_time": "2024-05-02T05:22:31.842052Z"
    }
   },
   "outputs": [
    {
     "name": "stdout",
     "output_type": "stream",
     "text": [
      "9.0\n"
     ]
    }
   ],
   "source": [
    "property_name = \"Resistance ($\\Omega$/sq)\"\n",
    " \n",
    "details = set_scientific_format(246)\n",
    "fig_size = details[:2]\n",
    "tex_fonts = details[2]['font.size']\n",
    "fig, axs = plt.subplots(1, 1, figsize=fig_size)\n",
    "\n",
    "for i in range(1,11):\n",
    "    \n",
    "    prev_size = np.load(RESULT_DIR + \"/\" + str(i-1) + \"_x_obs.npy\").shape[0]\n",
    "    y_resist_obs = np.load(RESULT_DIR + \"/\" + str(i) + \"_y_resist_obs.npy\")[prev_size:]\n",
    "    run_array = np.repeat(i, y_resist_obs.shape[0])\n",
    "    \n",
    "    axs.scatter(run_array, y_resist_obs, \n",
    "                marker = 'o', \n",
    "                color='k', \n",
    "                s=tex_fonts)\n",
    "\n",
    "axs.tick_params(axis='both', which='major')\n",
    "axs.tick_params(axis='both', which='minor')\n",
    "axs.set_xlabel('Iterations')\n",
    "axs.grid(True)\n",
    "\n",
    "axs.set_ylabel(r'\\textbf{'+property_name+'}')\n",
    "\n",
    "fig.tight_layout()\n",
    "fig.savefig(save_fig+'/'+\"iter_resistance\"+'.pdf', bbox_inches='tight', pad_inches=0)"
   ]
  },
  {
   "cell_type": "markdown",
   "id": "06142950",
   "metadata": {},
   "source": [
    "## Plots of suggested conditions pressure and power"
   ]
  },
  {
   "cell_type": "code",
   "execution_count": 17,
   "id": "00e281e0",
   "metadata": {
    "ExecuteTime": {
     "end_time": "2024-05-02T05:22:32.128664Z",
     "start_time": "2024-05-02T05:22:32.119179Z"
    }
   },
   "outputs": [],
   "source": [
    "def plot_1D_suggestions(next_array, optimum_array, file_name, property_name, lim):\n",
    "\n",
    "    details = set_scientific_format(246)\n",
    "    fig_size = details[:2]\n",
    "    tex_fonts = details[2]['font.size']\n",
    "    fig, axs = plt.subplots(1, 1, figsize=fig_size)\n",
    "\n",
    "    axs.plot(range(1,optimum_array.shape[0]+1), optimum_array,'-o', \n",
    "             lw=details[2][\"lines.linewidth\"], \n",
    "             markersize = tex_fonts*.5,\n",
    "             color = 'blue', \n",
    "             label=r'Optimum, $\\mathbf{x}^*$')\n",
    "    \n",
    "    axs.plot(range(1,next_array.shape[0]+1), next_array,':*', \n",
    "             lw=details[2][\"lines.linewidth\"],\n",
    "             color = 'green', label=r'Proposed, $\\bar{\\mathbf{x}}$')\n",
    "\n",
    "    axs.tick_params(axis='both', which='major')\n",
    "    axs.tick_params(axis='both', which='minor')\n",
    "    axs.set_xlabel('Iterations')\n",
    "    axs.set_ylim(lim)\n",
    "    axs.legend( handletextpad=0.1)\n",
    "    axs.grid(True)\n",
    "\n",
    "    axs.set_ylabel(r'{'+property_name+'}')\n",
    "\n",
    "    fig.tight_layout()\n",
    "    fig.savefig(save_fig+'/'+file_name+'.pdf', bbox_inches='tight', pad_inches=0)"
   ]
  },
  {
   "cell_type": "code",
   "execution_count": 18,
   "id": "e44129f1",
   "metadata": {
    "ExecuteTime": {
     "end_time": "2024-05-02T05:22:32.637967Z",
     "start_time": "2024-05-02T05:22:32.130639Z"
    }
   },
   "outputs": [
    {
     "name": "stdout",
     "output_type": "stream",
     "text": [
      "9.0\n",
      "9.0\n"
     ]
    }
   ],
   "source": [
    "import pickle\n",
    "\n",
    "optimum = []\n",
    "next_vals = []\n",
    "for i in range(11):\n",
    "    X_obs = np.load(RESULT_DIR + \"/\" + str(i) + \"_x_obs.npy\")\n",
    "    y_stress_obs = np.load(RESULT_DIR + \"/\" + str(i) + \"_y_stress_obs.npy\")\n",
    "    y_resist_obs = np.load(RESULT_DIR + \"/\" + str(i) + \"_y_resist_obs.npy\")\n",
    "    \n",
    "    x_next = np.load(RESULT_DIR + \"/\" + str(i) + \"_x_next.npy\")[0]\n",
    "    next_vals.append(x_next)\n",
    "    \n",
    "    with open(RESULT_DIR + \"/\" + str(i) + '_gp_objects.pkl', 'rb') as file:\n",
    "        data = pickle.load(file)\n",
    "        GP_stress = data['stress']\n",
    "        _, _, stress_mu_grad = GP_stress.posterior(X_obs, calc_grad=True)\n",
    "        obj_val, min_grad_criteria, pos_grad_criteria, stress_cutoff, resistivity_cutoff  = stress_obj(y_stress_obs, stress_mu_grad, y_resist_obs)\n",
    "        indx = np.argmax(obj_val)\n",
    "        optimum.append(list(X_obs[indx]) + list(obj_val[indx]))\n",
    "\n",
    "next_vals = np.array(next_vals)\n",
    "optimum = np.array(optimum)\n",
    "plot_1D_suggestions(next_vals[:,0], optimum[:,0], \"iter_pressure\", \"Pressure (mTorr)\", [1,20])\n",
    "plot_1D_suggestions(next_vals[:,1], optimum[:,1], \"iter_power\", \"Power (W)\", [100,800])"
   ]
  },
  {
   "cell_type": "markdown",
   "id": "118ef851",
   "metadata": {},
   "source": [
    "# Fig. 5 , 6, 7"
   ]
  },
  {
   "cell_type": "code",
   "execution_count": null,
   "id": "1dd44cec",
   "metadata": {
    "ExecuteTime": {
     "end_time": "2024-03-14T22:19:58.270195Z",
     "start_time": "2024-03-14T22:19:58.251557Z"
    },
    "code_folding": [
     1,
     2,
     9
    ],
    "deletable": false,
    "editable": false,
    "run_control": {
     "frozen": true
    }
   },
   "outputs": [],
   "source": [
    "import matplotlib as mpl\n",
    "def truncate_colormap(cmap, minval=0.0, maxval=1.0, n=100):\n",
    "    new_cmap = mpl.colors.LinearSegmentedColormap.from_list(\n",
    "        'trunc({n},{a:.2f},{b:.2f})'.format(n=cmap.name, a=minval, b=maxval),\n",
    "        cmap(np.linspace(minval, maxval, n)))\n",
    "    return new_cmap\n",
    "\n",
    "new_cmap = truncate_colormap(plt.get_cmap('bwr'), 0.2, 1)\n",
    "\n",
    "def acq_heatmap(indx, obj_mu_array, obj_sd_array, ucb_array, acq_val_next):\n",
    "\n",
    "    details = set_scientific_format(459, 11, fraction=3, subplots=(1,3))\n",
    "    fig_size = details[:2]\n",
    "    tex_fonts = details[2]['font.size']\n",
    "    fig, axs = plt.subplots(1, 3, figsize=fig_size)\n",
    "    axs = axs.reshape(-1)\n",
    "#     fig, axs = plt.subplots(1,3, figsize=(45, 10))\n",
    "#     fig.suptitle(\"Experiment: \" + str(indx))\n",
    "    dot_size = 30\n",
    "    contour_linewidth = .5\n",
    "    dot_linewidth = 2\n",
    "    # plt.subplots_adjust(wspace=0.25, hspace=0.25)\n",
    "\n",
    "    names = [r'$\\boldsymbol{\\mu_{\\textbf{pos}}}$', r'$\\boldsymbol{\\sigma_{\\textbf{pos}}}$', r'$\\textbf{ucb}$']\n",
    "    for i, Z in enumerate([obj_mu_array, obj_sd_array, ucb_array]):\n",
    "        Z = Z.reshape(xx.shape)\n",
    "        m = np.min(Z)\n",
    "        M = np.max(Z)\n",
    "        \n",
    "        levels = np.arange(m, M+0.02, 0.02)\n",
    "        contours = axs[i].contourf(xx, yy, Z, cmap=new_cmap, levels=levels)\n",
    "        axs[i].contour(xx, yy, Z, 15, linewidths=contour_linewidth, colors='gray')\n",
    "        cbar = fig.colorbar(contours, ax=axs[i], format='%.2f')\n",
    "        cbar.ax.tick_params(labelsize=tex_fonts)\n",
    "        contours.set_clim(m, M)\n",
    "\n",
    "        axs[i].scatter(X_obs[:, 0], X_obs[:, 1], color='k',\n",
    "                    marker='x', label=\"observed data\",\n",
    "                    s=dot_size, clip_on=False, zorder=10)\n",
    "#         axs[i].scatter(X_obs[NO_OLD_DATA:, 0], X_obs[NO_OLD_DATA:, 1], color='k',\n",
    "#                     marker='*', label=\"new datapoints\",\n",
    "#                     s=dot_size, clip_on=False, zorder=10)\n",
    "        \n",
    "        axs[i].scatter(x_next[0, 0], x_next[0, 1], color='k',\n",
    "                    marker='D', label=\"BayesOpt new suggestion\",\n",
    "                    s=dot_size, clip_on=False, zorder=10)\n",
    "        axs[i].annotate(\"next\",\n",
    "                        xy=(x_next[0, 0] + .2, x_next[0, 1]), xycoords='data',\n",
    "                        xytext=(x_next[0, 0] + 2, x_next[0, 1]), textcoords='data', size=dot_linewidth*8,\n",
    "                        arrowprops=dict(arrowstyle=\"->\",\n",
    "                                        connectionstyle=\"arc3\", lw=2), zorder=10)\n",
    "        \n",
    "        x_fraction_mid = (3-pressure_range[0])/(pressure_range[1]-pressure_range[0])\n",
    "        line_loc = 1.05        \n",
    "        axs[i].annotate('', xy=(-.015, line_loc), xytext=(x_fraction_mid+.015, line_loc), xycoords='axes fraction',\n",
    "                        arrowprops=dict(arrowstyle='<->', lw=1.0, ls='--'))\n",
    "        axs[i].annotate(r'$\\mathcal{X}_1$', xy=(0, 0), xytext=(x_fraction_mid/2, line_loc+.02),\n",
    "            fontsize=tex_fonts*1.2, ha='center', va='bottom', xycoords='axes fraction')\n",
    "    \n",
    "        axs[i].annotate('', xy=(x_fraction_mid-.015, line_loc), xytext=(1+.015, line_loc), xycoords='axes fraction', \n",
    "                        arrowprops=dict(arrowstyle='<->', lw=1.0, ls='--'))\n",
    "        axs[i].annotate(r'$\\mathcal{X}_2$', xy=(0, 0), xytext=((1+x_fraction_mid)/2, line_loc+.02),\n",
    "            fontsize=tex_fonts*1.2, ha='center', va='bottom', xycoords='axes fraction')\n",
    "        # axs[i].fill_betweenx(y=np.linspace(power_range[0]-49, power_range[0], 1000),\n",
    "        #                   x1=pressure_range[0], x2=3,\n",
    "        #                   color=\"gray\", hatch='', alpha=0.3, edgecolor=\"k\", label=r'${\\Omega}$', zorder=10)\n",
    "        # axs[i].fill_betweenx(y=np.linspace(power_range[0]-49, power_range[0], 1000),\n",
    "        #                   x1=3, x2=pressure_range[1],\n",
    "        #                   color=\"white\", hatch='\\\\', alpha=1, edgecolor=\"k\", label=r'${\\bar{\\Omega}}$', zorder=10)\n",
    "        \n",
    "        axs[i].set_frame_on(False)\n",
    "        axs[i].set_xlabel(\"pressure (mTorr)\", fontweight='bold', fontsize = 2*tex_fonts)\n",
    "        axs[i].set_ylabel(\"power (W)\", fontweight='bold', fontsize = 2*tex_fonts)\n",
    "        axs[i].set_title(names[i], fontweight='bold', fontsize=2*tex_fonts, y=1.15)\n",
    "        axs[i].set_xlim(pressure_range[0], pressure_range[1])\n",
    "        axs[i].set_ylim(power_range[0], power_range[1] + 5)\n",
    "        axs[i].tick_params(axis='both', which='both', labelsize=tex_fonts)\n",
    "        axs[i].set_yticklabels(axs[i].get_yticks(), weight='bold')\n",
    "        axs[i].set_xticklabels(axs[i].get_xticks(), weight='bold')\n",
    "        axs[i].grid(True)\n",
    "\n",
    "    axs[1].legend(loc='upper center', bbox_to_anchor=(0.5, 1.45), ncol=4,\n",
    "                 fontsize=tex_fonts*1.5)\n",
    "    #     fig.tight_layout()\n",
    "#     fig.savefig(save_fig+'/ucb_'+str(indx) + \".pdf\", bbox_inches='tight', pad_inches=0)\n",
    "    plt.show()\n",
    "    plt.close()"
   ]
  },
  {
   "cell_type": "code",
   "execution_count": null,
   "id": "1781b8db",
   "metadata": {
    "ExecuteTime": {
     "end_time": "2024-03-14T22:19:58.969834Z",
     "start_time": "2024-03-14T22:19:58.272408Z"
    },
    "code_folding": [
     0
    ],
    "deletable": false,
    "editable": false,
    "run_control": {
     "frozen": true
    }
   },
   "outputs": [],
   "source": [
    "# All four criterias in 2D as a row\n",
    "for i in range(11):\n",
    "    X_obs = np.load(RESULT_DIR + \"/\" + str(i) + \"_x_obs.npy\")\n",
    "    x_next = np.load(RESULT_DIR + \"/\" + str(i) + \"_x_next.npy\")\n",
    "\n",
    "    # Parameter grid setup\n",
    "    xx = np.load(RESULT_DIR + \"/\" + str(i) + \"_xgrid.npy\")\n",
    "    yy = np.load(RESULT_DIR + \"/\" + str(i) + \"_ygrid.npy\")\n",
    "    parameter_grid = np.append(xx.reshape(-1, 1),\n",
    "                                yy.reshape(-1, 1),\n",
    "                                axis=1)\n",
    "\n",
    "    # # acq plots\n",
    "    obj_mu = np.load(RESULT_DIR + \"/\" + str(i) + \"_obj_mu_array.npy\")\n",
    "    obj_sd = np.load(RESULT_DIR + \"/\" + str(i) + \"_obj_sd_array.npy\")\n",
    "    ucb = np.load(RESULT_DIR + \"/\" + str(i) + \"_ucb_array.npy\")\n",
    "    val_next = np.load(RESULT_DIR + \"/\" + str(i) + \"_acq_val_next.npy\")\n",
    "\n",
    "    acq_heatmap(i, obj_mu, obj_sd, ucb, val_next)"
   ]
  },
  {
   "cell_type": "code",
   "execution_count": 21,
   "id": "294a81f0",
   "metadata": {
    "ExecuteTime": {
     "end_time": "2024-05-02T05:23:59.721822Z",
     "start_time": "2024-05-02T05:23:49.580876Z"
    },
    "code_folding": []
   },
   "outputs": [
    {
     "name": "stdout",
     "output_type": "stream",
     "text": [
      "9.0\n",
      "9.0\n",
      "9.0\n",
      "9.0\n",
      "9.0\n",
      "9.0\n",
      "9.0\n",
      "9.0\n",
      "9.0\n"
     ]
    }
   ],
   "source": [
    "import matplotlib as mpl\n",
    "def truncate_colormap(cmap, minval=0.0, maxval=1.0, n=100):\n",
    "    new_cmap = mpl.colors.LinearSegmentedColormap.from_list(\n",
    "        'trunc({n},{a:.2f},{b:.2f})'.format(n=cmap.name, a=minval, b=maxval),\n",
    "        cmap(np.linspace(minval, maxval, n)))\n",
    "    return new_cmap\n",
    "\n",
    "new_cmap = truncate_colormap(plt.get_cmap('bwr'), 0.2, 1)\n",
    "\n",
    "def acq_single_heatmap(indx, X_obs, xx, yy, Z_array, acq_val_next, title_name, filename):\n",
    "\n",
    "    details = set_scientific_format(246)\n",
    "    fig_size = details[:2]\n",
    "    tex_fonts = details[2]['font.size']\n",
    "    fig, axs = plt.subplots(1, 1, figsize=fig_size)\n",
    "    dot_size = tex_fonts\n",
    "    contour_linewidth = 0.5\n",
    "    dot_linewidth = 2\n",
    "    line_loc = 1.05    \n",
    "\n",
    "    Z = Z_array.reshape(xx.shape)\n",
    "    m = np.min(Z)\n",
    "    M = np.max(Z)\n",
    "\n",
    "    levels = np.arange(m, M+0.02, 0.02)\n",
    "    contours = axs.contourf(xx, yy, Z, cmap=new_cmap, levels=levels)\n",
    "    axs.contour(xx, yy, Z, 15, linewidths=contour_linewidth, colors='gray')\n",
    "    cbar = fig.colorbar(contours, ax=axs, format='%.2f')\n",
    "    cbar.ax.tick_params(labelsize=tex_fonts)\n",
    "    cbar.ax.text(2.5, 1.025, title_name, ha='center', va='bottom', \n",
    "                 fontsize=tex_fonts*1.2, transform=cbar.ax.transAxes)\n",
    "    contours.set_clim(m, M)\n",
    "\n",
    "    axs.scatter(X_obs[:, 0], X_obs[:, 1], color='k',\n",
    "                marker='x', label=\"observed data\",\n",
    "                s=dot_size, clip_on=False, zorder=10)\n",
    "    axs.scatter(x_next[0, 0], x_next[0, 1], color='k',\n",
    "                marker='D', label=\"BayesOpt new suggestion\",\n",
    "                s=dot_size, clip_on=False, zorder=10)\n",
    "    axs.annotate(r'\\textbf{next}',\n",
    "                    xy=(x_next[0, 0] + .2, x_next[0, 1]), xycoords='data',\n",
    "                    xytext=(x_next[0, 0] + 2, x_next[0, 1]), textcoords='data', \n",
    "                    size=tex_fonts,\n",
    "                    arrowprops=dict(arrowstyle=\"->\",\n",
    "                                    connectionstyle=\"arc3\", lw=1), zorder=10)\n",
    "\n",
    "    x_fraction_mid = (3-pressure_range[0])/(pressure_range[1]-pressure_range[0])    \n",
    "    axs.annotate('', xy=(-.025, line_loc), xytext=(x_fraction_mid+.015, line_loc), xycoords='axes fraction',\n",
    "                    arrowprops=dict(arrowstyle='<|-|>, head_length=.2', lw=1.0, ls='--'))\n",
    "    axs.annotate(r'$\\mathcal{X}_1$', xy=(0, 0), xytext=(x_fraction_mid/2, line_loc+.02),\n",
    "        fontsize=tex_fonts, ha='center', va='bottom', xycoords='axes fraction')\n",
    "\n",
    "    axs.annotate('', xy=(x_fraction_mid-.015, line_loc), xytext=(1+.015, line_loc), xycoords='axes fraction', \n",
    "                    arrowprops=dict(arrowstyle='<|-|>, head_length=.2', lw=1.0, ls='--'))\n",
    "    axs.annotate(r'$\\mathcal{X}_2$', xy=(0, 0), xytext=((1+x_fraction_mid)/2, line_loc+.02),\n",
    "        fontsize=tex_fonts, ha='center', va='bottom', xycoords='axes fraction')\n",
    "\n",
    "    axs.set_frame_on(False)\n",
    "    axs.set_xlabel(\"Pressure (mTorr)\")\n",
    "    axs.set_ylabel(\"Power (W)\")\n",
    "#     axs.set_title(title_name, fontweight='bold', fontsize=2*tex_fonts, y=1.15)\n",
    "    axs.set_xlim(pressure_range[0], pressure_range[1])\n",
    "    axs.set_ylim(power_range[0], power_range[1] + 5)\n",
    "    axs.tick_params(axis='both', which='both')\n",
    "    axs.set_yticklabels(axs.get_yticks())\n",
    "    axs.set_xticklabels(axs.get_xticks())\n",
    "    axs.grid(True)\n",
    "\n",
    "    axs.legend(loc='upper center', bbox_to_anchor=(0.5, 1.35), ncol=2, columnspacing=0.5, handletextpad=-0.1)\n",
    "#     plt.show()\n",
    "#     fig.tight_layout()\n",
    "    fig.savefig(save_fig+filename+'_'+str(indx) + \".pdf\", bbox_inches='tight', pad_inches=0)\n",
    "    plt.close()\n",
    "    \n",
    "for i in [0, 6, 9]:\n",
    "    x_grid = np.load(RESULT_DIR + \"/\" + str(i) + \"_xgrid.npy\")\n",
    "    y_grid = np.load(RESULT_DIR + \"/\" + str(i) + \"_ygrid.npy\")\n",
    "    \n",
    "    obj_mu = np.load(RESULT_DIR + \"/\" + str(i) + \"_obj_mu_array.npy\")\n",
    "    obj_sd = np.load(RESULT_DIR + \"/\" + str(i) + \"_obj_sd_array.npy\")\n",
    "    ucb = np.load(RESULT_DIR + \"/\" + str(i) + \"_ucb_array.npy\")\n",
    "    \n",
    "    x_obs = np.load(RESULT_DIR + \"/\" + str(i) + \"_x_obs.npy\")\n",
    "    x_next = np.load(RESULT_DIR + \"/\" + str(i) + \"_x_next.npy\")\n",
    "    val_next = np.load(RESULT_DIR + \"/\" + str(i) + \"_acq_val_next.npy\")\n",
    "    \n",
    "    acq_single_heatmap(i, x_obs, x_grid, y_grid, obj_mu, val_next, r'${\\mu_{pos}}$', 'mu')\n",
    "    acq_single_heatmap(i, x_obs, x_grid, y_grid, obj_sd, val_next, r'${ \\beta \\cdot \\sigma_{pos}}$', 'sd')\n",
    "    acq_single_heatmap(i, x_obs, x_grid, y_grid, ucb, val_next, 'ucb', 'only_ucb')"
   ]
  },
  {
   "cell_type": "markdown",
   "id": "63d383da",
   "metadata": {},
   "source": [
    "# Fig. 8"
   ]
  },
  {
   "cell_type": "code",
   "execution_count": 22,
   "id": "1652dc2a",
   "metadata": {
    "ExecuteTime": {
     "end_time": "2024-05-02T05:24:00.061290Z",
     "start_time": "2024-05-02T05:24:00.042319Z"
    }
   },
   "outputs": [],
   "source": [
    "i = 10\n",
    "# # heatmap plots\n",
    "x_grid = np.load(RESULT_DIR + \"/\" + str(i) + \"_xgrid.npy\")\n",
    "y_grid = np.load(RESULT_DIR + \"/\" + str(i) + \"_ygrid.npy\")\n",
    "x_obs = np.load(RESULT_DIR + \"/\" + str(10) + \"_x_obs.npy\")\n",
    "y_stress_obs = np.load(RESULT_DIR + \"/\" + str(i) + \"_y_stress_obs.npy\")\n",
    "y_resist_obs = np.load(RESULT_DIR + \"/\" + str(i) + \"_y_resist_obs.npy\")\n",
    "\n",
    "obj_stress_grad_array = np.load(RESULT_DIR + \"/\" + str(i) + \"_obj_array1.npy\")\n",
    "obj_stress_grad_array = (-obj_stress_grad_array + 1) * 1900\n",
    "\n",
    "stress_mu_array = np.load(RESULT_DIR + \"/\" + str(i) + \"_stress_mu_array.npy\")\n",
    "    \n",
    "with open(RESULT_DIR + \"/\" + str(i) + '_gp_objects.pkl', 'rb') as file:\n",
    "    data = pickle.load(file)\n",
    "    GP_stress = data['stress']\n",
    "    _, _, stress_mu_grad = GP_stress.posterior(x_obs, calc_grad=True)\n",
    "    obj_val, min_grad_criteria, pos_grad_criteria, stress_cutoff, resistivity_cutoff  = stress_obj(y_stress_obs, \n",
    "                                                                                                   stress_mu_grad, \n",
    "                                                                                                   y_resist_obs)\n",
    "    \n",
    "    optimum_location = x_obs[np.argmax(obj_val)]\n",
    "    \n",
    "obj_mu_array = np.load(RESULT_DIR + \"/\" + str(i) + \"_obj_mu_array.npy\")"
   ]
  },
  {
   "cell_type": "code",
   "execution_count": 23,
   "id": "fff8ef9c",
   "metadata": {
    "ExecuteTime": {
     "end_time": "2024-05-02T05:24:02.654684Z",
     "start_time": "2024-05-02T05:24:02.612313Z"
    },
    "code_folding": [
     2
    ]
   },
   "outputs": [],
   "source": [
    "from matplotlib.colors import LinearSegmentedColormap\n",
    "\n",
    "def truncate_colormap(cmap, minval=0.0, maxval=1.0, n=100):\n",
    "    # Define the exponential mapping function\n",
    "    def exponential_mapping(x):\n",
    "        return x\n",
    "\n",
    "    # Apply the exponential mapping to the color values\n",
    "    cmap_values = cmap(np.linspace(minval, maxval, n))\n",
    "    mapped_values = exponential_mapping(cmap_values)\n",
    "\n",
    "    # Normalize the mapped values to the [0, 1] range\n",
    "    norm_mapped_values = (mapped_values - mapped_values.min()) / (mapped_values.max() - mapped_values.min())\n",
    "\n",
    "    # Create a new colormap\n",
    "    new_cmap = LinearSegmentedColormap.from_list(\n",
    "        'trunc({n},{a:.2f},{b:.2f})'.format(n=cmap.name, a=minval, b=maxval),\n",
    "        norm_mapped_values)\n",
    "\n",
    "    return new_cmap\n",
    "\n",
    "# Usage example:\n",
    "new_cmap = truncate_colormap(plt.get_cmap('bwr'), minval=0, maxval=1)\n",
    "\n",
    "def obj_heatmap(indx, obj_array, xx, yy, optimum_location, name, title):\n",
    "\n",
    "    details = set_scientific_format(246)\n",
    "    fig_size = details[:2]\n",
    "    tex_fonts = details[2]['font.size']\n",
    "    fig, axs = plt.subplots(1, 1, figsize=fig_size)\n",
    "    dot_size = tex_fonts\n",
    "    contour_linewidth = 0.5\n",
    "    dot_linewidth = 2\n",
    "    line_loc = 1.05    \n",
    "\n",
    "    Z = obj_array.reshape(xx.shape)\n",
    "    m = np.min(Z)\n",
    "    M = np.max(Z)\n",
    "\n",
    "    levels = np.arange(m, M+0.02, 0.02)\n",
    "    contours = axs.contourf(xx, yy, Z, cmap=new_cmap, levels=levels)\n",
    "    axs.contour(xx, yy, Z, 15, linewidths=contour_linewidth, colors='gray')\n",
    "    cbar = fig.colorbar(contours, ax=axs, format='%.2f')\n",
    "    cbar.ax.tick_params(labelsize=tex_fonts)\n",
    "    contours.set_clim(m, M)\n",
    "    cbar.ax.text(3, 1.035, title, ha='center', va='bottom', \n",
    "                 fontsize=tex_fonts*1.2, transform=cbar.ax.transAxes)\n",
    "    \n",
    "    axs.scatter(X_obs[:, 0], X_obs[:, 1], color='k',\n",
    "                marker='o', label=\"Observed data\",\n",
    "                s=dot_size, clip_on=False, zorder=10)\n",
    "#     axs.scatter(X_obs[NO_OLD_DATA:, 0], X_obs[NO_OLD_DATA:, 1], color='k',\n",
    "#                 marker='*', label=\"Bayes experiment data\",\n",
    "#                 s=dot_size, clip_on=False, zorder=10)\n",
    "\n",
    "    axs.scatter(optimum_location[0], optimum_location[1], color='k',\n",
    "                marker='D', label=\"optimal solution\",\n",
    "                s=dot_size, clip_on=False, zorder=10)\n",
    "    axs.annotate('optimum',\n",
    "                xy=(optimum_location[0] + .2, optimum_location[1]), xycoords='data',\n",
    "                xytext=(optimum_location[0] + 3, optimum_location[1]-50), textcoords='data', size=tex_fonts,\n",
    "                arrowprops=dict(arrowstyle=\"->\",\n",
    "                                connectionstyle=\"arc3\", lw=1), zorder=10)\n",
    "    \n",
    "    axs.set_frame_on(False)\n",
    "    axs.set_xlabel(\"Pressure (mTorr)\", fontweight='bold')\n",
    "    axs.set_ylabel(\"Power (W)\", fontweight='bold')\n",
    "    axs.set_xlim(pressure_range[0], pressure_range[1])\n",
    "    axs.set_ylim(power_range[0], power_range[1])\n",
    "    axs.tick_params(axis='both', which='both')\n",
    "    axs.grid(True)\n",
    "\n",
    "    axs.legend(loc='upper center', bbox_to_anchor=(0.5, 1.25), ncol=2, columnspacing=0.5, handletextpad=-0.1)\n",
    "#     fig.tight_layout()\n",
    "    fig.savefig(save_fig+'/obj_'+name+\"_\"+str(indx) + \".png\",\n",
    "                bbox_inches='tight', pad_inches=0,dpi=600)\n",
    "#     plt.show()\n",
    "    plt.close()"
   ]
  },
  {
   "cell_type": "code",
   "execution_count": 25,
   "id": "e10d1e6a",
   "metadata": {
    "ExecuteTime": {
     "end_time": "2024-05-02T05:27:58.078023Z",
     "start_time": "2024-05-02T05:26:06.323700Z"
    }
   },
   "outputs": [
    {
     "name": "stdout",
     "output_type": "stream",
     "text": [
      "9.0\n"
     ]
    }
   ],
   "source": [
    "obj_heatmap(i, obj_stress_grad_array, x_grid, y_grid, optimum_location, 'gradient' , r'$g_{pr}(x)$')"
   ]
  },
  {
   "cell_type": "code",
   "execution_count": 26,
   "id": "a94d048e",
   "metadata": {
    "ExecuteTime": {
     "end_time": "2024-05-02T05:32:41.912580Z",
     "start_time": "2024-05-02T05:30:42.634251Z"
    }
   },
   "outputs": [
    {
     "name": "stdout",
     "output_type": "stream",
     "text": [
      "9.0\n"
     ]
    }
   ],
   "source": [
    "obj_heatmap(i, stress_mu_array, x_grid, y_grid, optimum_location, 'stress' , r'$g(\\mathbf{x})$')"
   ]
  },
  {
   "cell_type": "code",
   "execution_count": 31,
   "id": "617abf86",
   "metadata": {
    "ExecuteTime": {
     "end_time": "2024-05-02T05:37:13.587987Z",
     "start_time": "2024-05-02T05:36:48.179936Z"
    }
   },
   "outputs": [
    {
     "name": "stdout",
     "output_type": "stream",
     "text": [
      "9.0\n",
      "9.0\n",
      "9.0\n",
      "9.0\n",
      "9.0\n",
      "9.0\n",
      "9.0\n",
      "9.0\n",
      "9.0\n",
      "9.0\n",
      "9.0\n"
     ]
    }
   ],
   "source": [
    "for i in range(11):\n",
    "    # # heatmap plots\n",
    "    x_grid = np.load(RESULT_DIR + \"/\" + str(i) + \"_xgrid.npy\")\n",
    "    y_grid = np.load(RESULT_DIR + \"/\" + str(i) + \"_ygrid.npy\")\n",
    "    x_obs = np.load(RESULT_DIR + \"/\" + str(i) + \"_x_obs.npy\")\n",
    "    y_stress_obs = np.load(RESULT_DIR + \"/\" + str(i) + \"_y_stress_obs.npy\")\n",
    "    y_resist_obs = np.load(RESULT_DIR + \"/\" + str(i) + \"_y_resist_obs.npy\")\n",
    "\n",
    "    obj_stress_grad_array = np.load(RESULT_DIR + \"/\" + str(i) + \"_obj_array1.npy\")\n",
    "    obj_stress_grad_array = (-obj_stress_grad_array + 1) * 1900\n",
    "\n",
    "    stress_mu_array = np.load(RESULT_DIR + \"/\" + str(i) + \"_stress_mu_array.npy\")\n",
    "\n",
    "    with open(RESULT_DIR + \"/\" + str(i) + '_gp_objects.pkl', 'rb') as file:\n",
    "        data = pickle.load(file)\n",
    "        GP_stress = data['stress']\n",
    "        _, _, stress_mu_grad = GP_stress.posterior(x_obs, calc_grad=True)\n",
    "        obj_val, min_grad_criteria, pos_grad_criteria, stress_cutoff, resistivity_cutoff  = stress_obj(y_stress_obs, \n",
    "                                                                                                       stress_mu_grad, \n",
    "                                                                                                       y_resist_obs)\n",
    "\n",
    "        optimum_location = x_obs[np.argmax(obj_val)]\n",
    "\n",
    "    obj_mu_array = np.load(RESULT_DIR + \"/\" + str(i) + \"_obj_mu_array.npy\")\n",
    "    obj_heatmap(i, obj_mu_array, x_grid, y_grid, optimum_location, 'objective_function' , r'$f(\\mathbf{x})$')"
   ]
  },
  {
   "cell_type": "code",
   "execution_count": null,
   "id": "3fd758be",
   "metadata": {
    "ExecuteTime": {
     "end_time": "2024-05-02T05:24:55.376421Z",
     "start_time": "2024-05-02T05:24:55.376408Z"
    }
   },
   "outputs": [],
   "source": [
    "para_bounds = np.array([pressure_range,power_range])\n",
    "\n",
    "SP_resist = Spline(para_bounds, [0, 100])\n",
    "SP_resist.add_observation(X_obs, \n",
    "                          y_resist_obs)\n",
    "SP_resist.fit()\n",
    "\n",
    "x_test = np.append(xx.reshape(-1,1), \n",
    "                   yy.reshape(-1,1),\n",
    "                   axis=1)\n",
    "resist_mu_sp = []\n",
    "for input_ in x_test:\n",
    "    mu_, _ = SP_resist.predict(np.array(input_).reshape(1,-1))\n",
    "    resist_mu_sp.append(mu_)\n",
    "\n",
    "resist_mu_sp = np.array(resist_mu_sp).reshape(-1,1)"
   ]
  },
  {
   "cell_type": "code",
   "execution_count": null,
   "id": "a9d5e565",
   "metadata": {
    "ExecuteTime": {
     "end_time": "2024-05-02T05:24:55.384299Z",
     "start_time": "2024-05-02T05:24:55.384287Z"
    }
   },
   "outputs": [],
   "source": [
    "obj_heatmap(i, resist_mu_sp, x_grid, y_grid, optimum_location, \"resist_final\", r'$R(\\mathbf{x})$')"
   ]
  },
  {
   "cell_type": "markdown",
   "id": "34253e9b",
   "metadata": {
    "heading_collapsed": true
   },
   "source": [
    "# Fig. 9"
   ]
  },
  {
   "cell_type": "code",
   "execution_count": null,
   "id": "6427386b",
   "metadata": {
    "ExecuteTime": {
     "end_time": "2024-05-02T05:22:35.469091Z",
     "start_time": "2024-05-02T05:22:35.469081Z"
    },
    "hidden": true
   },
   "outputs": [],
   "source": [
    "i = 10\n",
    "X_obs = np.load(RESULT_DIR + \"/\" + str(i) + \"_x_obs.npy\")\n",
    "y_stress_obs = np.load(RESULT_DIR + \"/\" + str(i) + \"_y_stress_obs.npy\")\n",
    "y_resist_obs = np.load(RESULT_DIR + \"/\" + str(i) + \"_y_resist_obs.npy\")\n",
    "obj_Y_obs = np.load(RESULT_DIR + \"/\" + str(i) + \"_y_obj_obs.npy\")\n",
    "\n",
    "x_next = np.load(RESULT_DIR + \"/\" + str(10) + \"_x_next.npy\")\n",
    "xx = np.array([2])\n",
    "\n",
    "yy = np.linspace(parameter_space[1][0], parameter_space[1][1], 200)\n",
    "yy = np.append(yy, [100, 500, 750, x_next[0, 1]])\n",
    "yy = np.unique(yy)\n",
    "\n",
    "xx, yy = np.meshgrid(xx, yy)\n",
    "parameter_grid = np.append(xx.reshape(-1, 1),\n",
    "                            yy.reshape(-1, 1),\n",
    "                            axis=1)\n",
    "\n",
    "# obj_mu_array = np.load(RESULT_DIR + \"/\" + str(i) + \"_obj_mu_array.npy\")\n",
    "# obj_sd_array = np.load(RESULT_DIR + \"/\" + str(i) + \"_obj_sd_array.npy\")\n",
    "# obj_stress_grad_array = np.load(RESULT_DIR + \"/\" + str(i) + \"_obj_array1.npy\")\n",
    "# obj_stress_grad_array = (-obj_stress_grad_array + 1) * 1900\n",
    "\n",
    "stress_mu_grad_grid = np.zeros([0, 1])\n",
    "obj_mu_grid = np.zeros([0, 1])\n",
    "obj_sd_grid = np.zeros([0, 1])\n",
    "\n",
    "with open(RESULT_DIR + \"/\" + str(i) + '_gp_objects.pkl', 'rb') as file:\n",
    "    data = pickle.load(file)\n",
    "    GP_stress = data['stress']\n",
    "    \n",
    "    # Observed\n",
    "    _, _, stress_mu_grad = GP_stress.posterior(X_obs, calc_grad=True)\n",
    "    obj_val, min_grad_criteria, pos_grad_criteria, stress_cutoff, resistivity_cutoff  = stress_obj(y_stress_obs, \n",
    "                                                                                                   stress_mu_grad, \n",
    "                                                                                                   y_resist_obs)\n",
    "    \n",
    "    # Posterior calculation\n",
    "    combined_array = np.vstack([parameter_grid, X_obs])\n",
    "    # Remove duplicates\n",
    "    unique_array = np.unique(combined_array, axis=0)\n",
    "\n",
    "    for input_ in unique_array:\n",
    "        input_ = input_.reshape(1, -1)\n",
    "        # Sort along axis 0 and then along axis 1\n",
    "        _, _, stress_mu_grad_grid_ = GP_stress.posterior(input_, calc_grad=True)\n",
    "\n",
    "\n",
    "        GP_obj = data['obj']\n",
    "        obj_mu_grid_, obj_sd_grid_ = GP_obj.posterior(input_)\n",
    "        \n",
    "        stress_mu_grad_grid = np.append(stress_mu_grad_grid, stress_mu_grad_grid_.reshape(-1, 1), axis=0)\n",
    "        obj_mu_grid = np.append(obj_mu_grid, obj_mu_grid_.reshape(-1, 1), axis=0)\n",
    "        obj_sd_grid = np.append(obj_sd_grid, obj_sd_grid_.reshape(-1, 1), axis=0)\n",
    "\n",
    "obs_index = np.isclose(X_obs[:,0], 2)\n",
    "grid_indx = np.isclose(unique_array[:, 0], 2,\n",
    "                  rtol=1e-05, atol=1e-08, equal_nan=False)\n",
    "\n",
    "opt_index = np.argmax(obj_val)\n",
    "non_opt_index = np.copy(obs_index)\n",
    "non_opt_index[[opt_index,opt_index+1,opt_index+2]] = [False, False, False]\n",
    "\n",
    "# non_opt_index = "
   ]
  },
  {
   "cell_type": "code",
   "execution_count": null,
   "id": "4703586d",
   "metadata": {
    "ExecuteTime": {
     "end_time": "2024-05-02T05:22:35.469974Z",
     "start_time": "2024-05-02T05:22:35.469965Z"
    },
    "deletable": false,
    "editable": false,
    "hidden": true
   },
   "outputs": [],
   "source": [
    "details = set_scientific_format(459, 11, fraction=1, subplots=(1,1))\n",
    "fig_size = details[:2]\n",
    "tex_fonts = details[2]['font.size']\n",
    "fig, axs = plt.subplots(1, 1, figsize=fig_size)\n",
    "\n",
    "\n",
    "axs.scatter(X_obs[non_opt_index, 1],\n",
    "         stress_mu_grad[non_opt_index, 0], label='Observed')\n",
    "axs.scatter(X_obs[[[opt_index,opt_index+1,opt_index+2]], 1],\n",
    "         stress_mu_grad[[[opt_index,opt_index+1,opt_index+2]], 0], marker='x' ,label=r'Optimum $\\mathbf{x}^*$')\n",
    "\n",
    "axs.plot(unique_array[grid_indx, 1],\n",
    "         stress_mu_grad_grid[grid_indx, 0])\n",
    "\n",
    "axs.set_frame_on(False)\n",
    "axs.set_xlabel(\"Power (W)\")\n",
    "axs.set_ylabel(r\"$g_{\\text{pr}}(\\mathbf{x})$\")\n",
    "axs.set_xlim(power_range[0], power_range[1]+50)\n",
    "axs.legend()\n",
    "axs.grid(True)\n",
    "fig.tight_layout()\n",
    "plt.show()\n",
    "# fig.savefig(save_fig+'/gradient_10_p2.pdf', bbox_inches='tight', pad_inches=0)"
   ]
  },
  {
   "cell_type": "code",
   "execution_count": null,
   "id": "09b0130c",
   "metadata": {
    "ExecuteTime": {
     "end_time": "2024-05-02T05:22:35.470725Z",
     "start_time": "2024-05-02T05:22:35.470715Z"
    },
    "hidden": true
   },
   "outputs": [],
   "source": [
    "details = set_scientific_format(246)\n",
    "fig_size = details[:2]\n",
    "tex_fonts = details[2]['font.size']\n",
    "fig, axs = plt.subplots(1, 1, figsize=fig_size)\n",
    "\n",
    "\n",
    "axs.scatter(X_obs[obs_index, 1],\n",
    "         stress_mu_grad[obs_index, 0],  s=tex_fonts, label='Observed')\n",
    "axs.scatter(X_obs[[[opt_index,opt_index+1,opt_index+2]], 1],\n",
    "         stress_mu_grad[[[opt_index,opt_index+1,opt_index+2]], 0], \n",
    "            facecolors='none', edgecolors='r' ,label=r'Optimum, $\\mathbf{x}^*$')\n",
    "\n",
    "axs.plot(unique_array[grid_indx, 1],\n",
    "         stress_mu_grad_grid[grid_indx, 0])\n",
    "\n",
    "axs.set_frame_on(False)\n",
    "axs.set_xlabel(\"Power (W)\")\n",
    "axs.set_ylabel(r\"$g_{\\text{pr}}(\\mathbf{x})$\")\n",
    "axs.set_xlim(power_range[0], power_range[1]+50)\n",
    "axs.legend(handletextpad=-0.1)\n",
    "axs.grid(True)\n",
    "fig.tight_layout()\n",
    "# plt.show()\n",
    "fig.savefig(save_fig+'/gradient_10_p2.pdf', bbox_inches='tight', pad_inches=0)\n",
    "plt.close()"
   ]
  },
  {
   "cell_type": "code",
   "execution_count": null,
   "id": "1e768205",
   "metadata": {
    "ExecuteTime": {
     "end_time": "2024-05-02T05:22:35.471463Z",
     "start_time": "2024-05-02T05:22:35.471455Z"
    },
    "hidden": true
   },
   "outputs": [],
   "source": [
    "details = set_scientific_format(246)\n",
    "fig_size = details[:2]\n",
    "tex_fonts = details[2]['font.size']\n",
    "fig, axs = plt.subplots(1, 1, figsize=fig_size)\n",
    "\n",
    "obs_index = np.isclose(X_obs[:,0], 2)\n",
    "grid_indx = np.isclose(unique_array[:, 0], 2,\n",
    "                  rtol=1e-05, atol=1e-08, equal_nan=False)\n",
    "\n",
    "axs.scatter(X_obs[obs_index, 1],\n",
    "         obj_val[obs_index, 0], s=tex_fonts, label='Observed')\n",
    "axs.scatter(X_obs[[[opt_index,opt_index+1,opt_index+2]], 1],\n",
    "         obj_val[[[opt_index,opt_index+1,opt_index+2]], 0], facecolors='none', edgecolors='r' ,label=r'Optimum, $\\mathbf{x}^*$')\n",
    "            \n",
    "axs.plot(unique_array[grid_indx, 1],\n",
    "         obj_mu_grid[grid_indx, 0], '--')\n",
    "axs.fill_between(unique_array[grid_indx, 1],\n",
    "                       obj_mu_grid[grid_indx, 0] + 2 *\n",
    "                       obj_sd_grid[grid_indx, 0],\n",
    "                       obj_mu_grid[grid_indx, 0] - 2 *\n",
    "                       obj_sd_grid[grid_indx, 0],\n",
    "                       color='blue',  edgecolor='none',\n",
    "                       alpha=0.5)\n",
    "\n",
    "axs.set_frame_on(False)\n",
    "axs.set_xlabel(\"Power (W)\")\n",
    "axs.set_ylabel(r\"$f(\\mathbf{x})$\")\n",
    "axs.set_xlim(power_range[0], power_range[1]+50)\n",
    "axs.legend(loc='lower right', handletextpad=-0.1)\n",
    "axs.grid(True)\n",
    "fig.tight_layout()\n",
    "plt.show()\n",
    "# fig.savefig(save_fig+'/obj_10_p2.pdf', bbox_inches='tight', pad_inches=0)"
   ]
  },
  {
   "cell_type": "markdown",
   "id": "e14ceea9",
   "metadata": {
    "heading_collapsed": true
   },
   "source": [
    "# 3D Plots"
   ]
  },
  {
   "cell_type": "markdown",
   "id": "68944f86",
   "metadata": {
    "heading_collapsed": true,
    "hidden": true
   },
   "source": [
    "## Gaussian process visualize"
   ]
  },
  {
   "cell_type": "code",
   "execution_count": null,
   "id": "16aa2cc1",
   "metadata": {
    "ExecuteTime": {
     "end_time": "2024-05-02T05:22:35.472358Z",
     "start_time": "2024-05-02T05:22:35.472347Z"
    },
    "hidden": true
   },
   "outputs": [],
   "source": [
    "i = 10\n",
    "\n",
    "x_grid = np.linspace(parameter_space[0][0], parameter_space[0][1], 100)\n",
    "y_grid = np.linspace(parameter_space[1][0], parameter_space[1][1], 200)\n",
    "x_grid, y_grid = np.meshgrid(x_grid, y_grid)\n",
    "parameter_grid = np.append(x_grid.reshape(-1, 1),\n",
    "                           y_grid.reshape(-1, 1),\n",
    "                           axis=1)\n",
    "\n",
    "x_obs = np.load(RESULT_DIR + \"/\" + str(i) + \"_x_obs.npy\")\n",
    "obj_Y_obs = np.load(RESULT_DIR + \"/\" + str(i) + \"_y_obj_obs.npy\")\n",
    "\n",
    "obj_mu_array = np.zeros([0, 1])\n",
    "obj_sd_array = np.zeros([0, 1])\n",
    "with open(RESULT_DIR + \"/\" + str(i) + '_gp_objects.pkl', 'rb') as file:\n",
    "    data = pickle.load(file)\n",
    "    GP_obj = data['obj']\n",
    "\n",
    "    for input_ in parameter_grid:\n",
    "        input_ = input_.reshape(1, -1)\n",
    "\n",
    "        # Objective surface seen by the GP_obj\n",
    "        mu_, sd_ = GP_obj.posterior(input_)\n",
    "\n",
    "        obj_sd_array = np.append(obj_sd_array,\n",
    "                                 sd_.reshape(-1, 1),\n",
    "                                 axis=0)\n",
    "        obj_mu_array = np.append(obj_mu_array,\n",
    "                                 mu_.reshape(-1, 1),\n",
    "                                 axis=0)\n",
    "\n",
    "obj_mu_array = obj_mu_array.reshape(x_grid.shape)\n",
    "obj_sd_array = obj_sd_array.reshape(x_grid.shape)"
   ]
  },
  {
   "cell_type": "code",
   "execution_count": null,
   "id": "c89958c1",
   "metadata": {
    "ExecuteTime": {
     "end_time": "2024-05-02T05:22:35.473408Z",
     "start_time": "2024-05-02T05:22:35.473396Z"
    },
    "code_folding": [],
    "hidden": true
   },
   "outputs": [],
   "source": [
    "# This import registers the 3D projection, but is otherwise unused.\n",
    "%matplotlib inline\n",
    "from mpl_toolkits.mplot3d import Axes3D  # noqa: F401 unused import\n",
    "from matplotlib import cm\n",
    "from matplotlib.ticker import LinearLocator, FormatStrFormatter\n",
    "from matplotlib.ticker import MaxNLocator\n",
    "\n",
    "def plots_3d(val_new, X_obs, xx, yy, Z1, Z2):\n",
    "\n",
    "    details = set_scientific_format(246)\n",
    "    mpl_default()\n",
    "    fig_size = np.array(details[:2])*2\n",
    "    print(fig_size)\n",
    "    tex_fonts = details[2]['font.size']    \n",
    "    fig = plt.figure(figsize=fig_size)\n",
    "    ax = fig.gca(projection='3d')\n",
    "\n",
    "    # Plot the surface.\n",
    "#     scamap = plt.cm.ScalarMappable(cmap='jet')\n",
    "#     fcolors = scamap.to_rgba(Z2.reshape(yy.shape))\n",
    "    fcolors = np.empty(xx.shape, dtype='<U10')\n",
    "    fcolors[:] = 'darkgreen'  # Set all faces to blue\n",
    "    surf = ax.plot_surface(xx, yy, Z1,\n",
    "                           antialiased=True,\n",
    "                           lw=0.1,\n",
    "                           rstride=5, cstride=5,\n",
    "                           edgecolors='k',\n",
    "#                            facecolors=fcolors,\n",
    "                           shade=True,\n",
    "                           alpha=.8)\n",
    "\n",
    "\n",
    "#     # Customize the z axis.\n",
    "    ax.zaxis.set_major_locator(LinearLocator(10))\n",
    "    ax.zaxis.set_major_formatter(FormatStrFormatter('%.02f'))\n",
    "    ax.grid(False)\n",
    "    ax.w_xaxis.pane.set_visible(False)\n",
    "    ax.w_yaxis.pane.set_visible(False)\n",
    "    ax.w_zaxis.pane.set_visible(False)    \n",
    "    ax.set_xlabel('\\n\\nPressure (mTorr)', fontweight='bold', fontsize=tex_fonts)\n",
    "    ax.set_ylabel('\\n\\nPower (W)', fontweight='bold', fontsize=tex_fonts)\n",
    "    ax.zaxis.set_rotate_label(False)  # disable automatic rotation\n",
    "    ax.set_zlabel(r'$\\mathbf{\\mu}$', fontweight='bold', fontsize=tex_fonts)\n",
    "\n",
    "    # Add a contour.\n",
    "    surf = ax.contourf(x_grid,\n",
    "                       y_grid,\n",
    "                       Z1,\n",
    "                       zdir='z', offset=-1,\n",
    "                       cmap='jet')\n",
    "    cbar = plt.colorbar(surf, ax=ax, format='%.2f', fraction=.5, pad=-.7, shrink=.5, aspect=20)\n",
    "    cbar.ax.text(3, 1.1, r'$\\mathbf{\\sigma}$', ha='center', va='bottom', \n",
    "                 fontsize=12, transform=cbar.ax.transAxes)\n",
    "    \n",
    "    ax.scatter(X_obs[:, 0],\n",
    "               X_obs[:, 1],\n",
    "               val_new,\n",
    "               s=tex_fonts,\n",
    "               color='r')    \n",
    "    \n",
    "    ax.set_xlim(pressure_range[0], pressure_range[1])\n",
    "    ax.set_ylim(power_range[0], power_range[1])\n",
    "    ax.set_zlim(-1, 1)\n",
    "    ax.tick_params(axis='both', which='both')\n",
    "    ax.yaxis.set_major_locator(MaxNLocator(nbins=5))\n",
    "    ax.zaxis.set_major_locator(MaxNLocator(nbins=5))\n",
    "    ax.view_init(elev=30, azim=320)\n",
    "    plt.show()\n",
    "#     fig.tight_layout()\n",
    "#     fig.savefig(save_fig+'/3d.png', dpi=600, bbox_inches='tight', pad_inches=0)\n",
    "    plt.close()\n",
    "\n",
    "plots_3d(obj_Y_obs, x_obs, x_grid, y_grid, obj_mu_array, obj_sd_array)"
   ]
  },
  {
   "cell_type": "markdown",
   "id": "d97b375e",
   "metadata": {
    "hidden": true
   },
   "source": [
    "## Experiment visualize"
   ]
  },
  {
   "cell_type": "code",
   "execution_count": null,
   "id": "a7b65ed5",
   "metadata": {
    "ExecuteTime": {
     "end_time": "2024-05-02T05:22:35.475130Z",
     "start_time": "2024-05-02T05:22:35.475117Z"
    },
    "hidden": true
   },
   "outputs": [],
   "source": [
    "i = 10\n",
    "\n",
    "parameter_space_sub = np.array([[2, 3], [500, 750]])\n",
    "\n",
    "x_grid = np.linspace(parameter_space_sub[0][0], parameter_space_sub[0][1], 50)\n",
    "y_grid = np.linspace(parameter_space_sub[1][0], parameter_space_sub[1][1], 100)\n",
    "x_grid, y_grid = np.meshgrid(x_grid, y_grid)\n",
    "parameter_grid = np.append(x_grid.reshape(-1, 1),\n",
    "                           y_grid.reshape(-1, 1),\n",
    "                           axis=1)\n",
    "\n",
    "x_obs = np.load(RESULT_DIR + \"/\" + str(i) + \"_x_obs.npy\")\n",
    "obj_Y_obs = np.load(RESULT_DIR + \"/\" + str(i) + \"_y_obj_obs.npy\")\n",
    "\n",
    "stress_mu_grad_grid = np.zeros([0, 1])\n",
    "with open(RESULT_DIR + \"/\" + str(i) + '_gp_objects.pkl', 'rb') as file:\n",
    "    data = pickle.load(file)\n",
    "    GP_stress = data['stress']\n",
    "\n",
    "    for input_ in parameter_grid:\n",
    "        input_ = input_.reshape(1, -1)\n",
    "\n",
    "        # Objective surface seen by the GP_obj\n",
    "        _, _, stress_mu_grad_grid_ = GP_stress.posterior(input_, calc_grad=True)\n",
    "        stress_mu_grad_grid = np.append(stress_mu_grad_grid, stress_mu_grad_grid_.reshape(-1, 1), axis=0)"
   ]
  },
  {
   "cell_type": "code",
   "execution_count": null,
   "id": "fe06e45b",
   "metadata": {
    "ExecuteTime": {
     "end_time": "2024-05-02T05:22:35.476631Z",
     "start_time": "2024-05-02T05:22:35.476619Z"
    },
    "hidden": true
   },
   "outputs": [],
   "source": [
    "# Read post Bayesopt experiment excel file\n",
    "import pandas as pd\n",
    "file = project_dir+\"data/raw/new_bayes_exp/BaysianOptimization_StressData_JOC_3_4_24.xlsx\"\n",
    "df = pd.read_excel(file)\n",
    "df = df.iloc[38:]\n",
    "\n",
    "diff = []\n",
    "for po in np.unique(df.iloc[:,0]):\n",
    "    df_films = [group for _, group in df[df.iloc[:,0] == po].groupby('Ar Pressure (mTorr)')]\n",
    "    print(df_films[0].iloc[:,[0,1,4]])\n",
    "    print(df_films[1].iloc[:,[0,1,4]])\n",
    "    pr1 = np.unique(df_films[0].iloc[:,1]).item()\n",
    "    pr2 = np.unique(df_films[1].iloc[:,1]).item()\n",
    "    for s1 in df_films[0].iloc[:,4]:\n",
    "        for s2 in df_films[1].iloc[:,4]:\n",
    "            diff.append([po, pr1, s1, s2, (s1-s2)/(pr1-pr2)])\n",
    "            \n",
    "            \n",
    "    if len(df_films) == 3:\n",
    "        print(df_films[2].iloc[:,[0,1,4]])\n",
    "        pr1 = np.unique(df_films[1].iloc[:,1]).item()\n",
    "        pr2 = np.unique(df_films[2].iloc[:,1]).item()\n",
    "        for s1 in df_films[1].iloc[:,4]:\n",
    "            for s2 in df_films[2].iloc[:,4]:\n",
    "                diff.append([po, pr1, s1, s2, (s1-s2)/(pr1-pr2)])\n",
    "                \n",
    "    print(\"\\n\")\n",
    "    \n",
    "grouped = pd.DataFrame(np.array(diff)).groupby([0, 1]).agg({4: ['mean', 'std']})"
   ]
  },
  {
   "cell_type": "code",
   "execution_count": null,
   "id": "7ac47e40",
   "metadata": {
    "ExecuteTime": {
     "end_time": "2024-05-02T05:22:35.477837Z",
     "start_time": "2024-05-02T05:22:35.477825Z"
    },
    "hidden": true
   },
   "outputs": [],
   "source": [
    "%matplotlib inline \n",
    "import numpy as np\n",
    "from mpl_toolkits.mplot3d import Axes3D\n",
    "import matplotlib.pyplot as plt\n",
    "\n",
    "# Define the vertices of the triangle\n",
    "vertices_1 = np.array([[2, 620, 339.23], [2. , 650., 1115.6], [2.5, 620, 1030.16]])\n",
    "vertices_2 = np.array([[2, 620, 339.23], [2.00001, 590, 975.5], [2. , 650., 1115.6]])\n",
    "vertices_3 = np.array([[2. , 590., 975.5], [2.5, 620, 1030.16], [2, 620, 339.23]])\n",
    "\n",
    "points = np.array([[2.0, 590, 975.5, 47.408072], \n",
    "                      [2.0, 620, 339.23, 42.172107], \n",
    "                      [2. , 650., 1115.6, 82.877381], \n",
    "                      [2.5, 620, 1030.16, 54.922551],\n",
    "                     ]\n",
    "                    )\n",
    "# Plot the surface for the triangle\n",
    "details = set_scientific_format(246)\n",
    "mpl_default()\n",
    "\n",
    "fig_size = np.array(details[:2])*3\n",
    "print(fig_size)\n",
    "tex_fonts = details[2]['font.size']    \n",
    "fig = plt.figure(figsize=fig_size)\n",
    "ax = fig.add_subplot(111, projection='3d')\n",
    "# Create a grid for the triangle vertices\n",
    "for indx, vertices in enumerate([vertices_1, vertices_2, vertices_3]):\n",
    "    x, y, z = vertices[:,0], vertices[:,1], vertices[:,2]\n",
    "\n",
    "    ax.plot_trisurf(x, y, z, color='k', edgecolor = 'gray', alpha=.1, \n",
    "                            antialiased=True,\n",
    "                           lw=1.5,\n",
    "                           shade=True)\n",
    "    if indx == 0:\n",
    "        ax.scatter(x, y, z, color='k', s=tex_fonts, label=\"New experiments\")\n",
    "    else:\n",
    "        ax.scatter(x, y, z, color='k', s=tex_fonts)\n",
    "\n",
    "\n",
    "x, y, z, stdev = points[:, 0], points[:, 1], points[:, 2], points[:, 3]\n",
    "for i in range(len(x)):\n",
    "    ax.errorbar(x[i], y[i], z[i], zerr=stdev[i], fmt='o', color='black')\n",
    "    \n",
    "surf = ax.contourf(x_grid,\n",
    "                   y_grid,\n",
    "                   stress_mu_grad_grid.reshape(x_grid.shape),\n",
    "                   zdir='z', offset=200,\n",
    "                   cmap='jet')\n",
    "cbar = plt.colorbar(surf, ax=ax, format='%.2f', fraction=.1, pad=.1, shrink=.5, aspect=20)\n",
    "cbar.ax.text(3, 1.1, r'BayesOpt gradient', ha='center', va='bottom', \n",
    "             fontsize=12, transform=cbar.ax.transAxes)\n",
    "ax.scatter(2, 620, 200, color='magenta', s= 50, marker = 'x', linewidths=5, \n",
    "           label='BayesOpt optimum')\n",
    "ax.scatter(2, 620, 339.23, facecolor=(0,0,0,0), s=50, edgecolor = 'magenta', linewidths=3, label='Experiment optimum')\n",
    "\n",
    "\n",
    "ax.set_xlabel('\\n\\nPressure (mTorr)', fontweight='bold', fontsize=tex_fonts)\n",
    "ax.set_ylabel('\\n\\nPower (W)', fontweight='bold', fontsize=tex_fonts)\n",
    "ax.set_zlabel(r'Gradient', fontweight='bold', fontsize=tex_fonts, rotation=90)\n",
    "ax.zaxis.set_rotate_label(False)  # disable automatic rotation\n",
    "\n",
    "ax.set_xlim(2,3)\n",
    "ax.set_ylim(500, 750)\n",
    "ax.set_zlim(200, 1200)\n",
    "ax.tick_params(axis='both', which='both')\n",
    "ax.yaxis.set_major_locator(MaxNLocator(nbins=5))\n",
    "ax.zaxis.set_major_locator(MaxNLocator(nbins=5))\n",
    "ax.view_init(elev=20, azim=120)\n",
    "ax.legend(loc='upper center', bbox_to_anchor=(0.7, 1), ncol=3, columnspacing=0.5, handletextpad=-0.1)\n",
    "# fig.tight_layout()\n",
    "fig.savefig(save_fig+'/new_exp_3d_visual.png', dpi=600, bbox_inches='tight', pad_inches=0)\n",
    "# plt.show()\n",
    "plt.close()"
   ]
  },
  {
   "cell_type": "markdown",
   "id": "83217ba2",
   "metadata": {
    "heading_collapsed": true
   },
   "source": [
    "# Domain partition figure"
   ]
  },
  {
   "cell_type": "code",
   "execution_count": null,
   "id": "a4e414ab",
   "metadata": {
    "ExecuteTime": {
     "end_time": "2024-05-02T05:22:35.478709Z",
     "start_time": "2024-05-02T05:22:35.478697Z"
    },
    "hidden": true
   },
   "outputs": [],
   "source": [
    "details = set_scientific_format(459)\n",
    "fig_size = details[:2]\n",
    "tex_fonts = details[2]['font.size']\n",
    "fig, axs = plt.subplots(1, 1, figsize=fig_size)\n",
    "\n",
    "# axs.set_frame_on(False)\n",
    "# axs.fill_betweenx(y=np.linspace(power_range[0], power_range[1] + 5, 1000),\n",
    "#                   x1=3, x2=pressure_range[1],\n",
    "#                   color=\"none\", hatch='//', alpha=0.3, edgecolor=\"k\", \n",
    "#                   label=r'$\\bar{\\Omega}$')\n",
    "# Annotate the shaded region with a text label\n",
    "label_position = ((pressure_range[1] - 3) / 2) + 3\n",
    "# axs.annotate(r'$\\bar{\\Omega}$', xy=(label_position, 500), \n",
    "#              xytext=(label_position, 500),\n",
    "#              arrowprops=dict(facecolor='black', shrink=0.05),\n",
    "#              fontsize=tex_fonts*1.5, ha='center', va='bottom', weight='bold')\n",
    "\n",
    "# axs.fill_betweenx(y=np.linspace(power_range[0], power_range[1] + 5, 1000),\n",
    "#                   x1=pressure_range[0], x2=3,\n",
    "#                   color=\"none\", hatch='', alpha=0.3, edgecolor=\"k\", label=r'${\\Omega}$')\n",
    "label_position = ((3-pressure_range[0]) / 2) + pressure_range[0]\n",
    "# axs.annotate(r'${\\Omega}$', xy=(label_position, 500), \n",
    "#              xytext=(label_position, 500),\n",
    "#              arrowprops=dict(facecolor='black', shrink=0.05),\n",
    "#              fontsize=tex_fonts*1.5, ha='center', va='bottom', weight='bold')\n",
    "\n",
    "axs.scatter([2, 2.5, 3, 2, 2.5, 2, 2.5], [620, 620, 620, 590, 590, 650, 650], label=\"new experiment for validation\") \n",
    "axs.set_xlabel(\"pressure (mTorr)\", fontweight='bold', fontsize = 2*tex_fonts)\n",
    "axs.set_ylabel(\"power (W)\", fontweight='bold', fontsize = 2*tex_fonts)\n",
    "# axs.set_title(\"Region\", fontweight='bold', fontsize=2*tex_fonts)\n",
    "# axs.set_xlim(pressure_range[0], pressure_range[1])\n",
    "# axs.set_ylim(power_range[0], power_range[1] + 5)\n",
    "axs.set_xlim(pressure_range[0], 5)\n",
    "axs.set_ylim(400, power_range[1] + 5)\n",
    "axs.tick_params(axis='both', which='both', labelsize=tex_fonts)\n",
    "axs.set_yticklabels(axs.get_yticks(), weight='bold')\n",
    "axs.set_xticklabels(axs.get_xticks(), weight='bold')\n",
    "plt.legend()\n",
    "# axs.grid(True)\n",
    "plt.show()\n",
    "# fig.savefig(save_fig+\"/annotated_region.png\", bbox_inches='tight', pad_inches=0)\n",
    "# plt.close()"
   ]
  },
  {
   "cell_type": "markdown",
   "id": "74e2654b",
   "metadata": {
    "heading_collapsed": true
   },
   "source": [
    "# Anomaly analysis"
   ]
  },
  {
   "cell_type": "code",
   "execution_count": null,
   "id": "60a77d86",
   "metadata": {
    "ExecuteTime": {
     "end_time": "2024-05-02T05:22:35.479475Z",
     "start_time": "2024-05-02T05:22:35.479466Z"
    },
    "hidden": true
   },
   "outputs": [],
   "source": [
    "from src.kernels import rbf\n",
    "from src.gaussian_process import Gaussain_Process\n",
    "\n",
    "i = 10\n",
    "X_obs = np.load(RESULT_DIR + \"/\" + str(i) + \"_x_obs.npy\")\n",
    "y_stress_obs = np.load(RESULT_DIR + \"/\" + str(i) + \"_y_stress_obs.npy\")\n",
    "y_resist_obs = np.load(RESULT_DIR + \"/\" + str(i) + \"_y_resist_obs.npy\")\n",
    "with open(RESULT_DIR + \"/\" + str(i) + '_gp_objects.pkl', 'rb') as file:\n",
    "    data = pickle.load(file)\n",
    "    GP_stress = data['stress']\n",
    "    stress_mu_, _, stress_mu_grad_ = GP_stress.posterior(X_obs, calc_grad=True)\n",
    "    obj_val, _, _, _, _ = stress_obj(y_stress_obs, stress_mu_grad_, y_resist_obs)\n",
    "\n",
    "for a, l_val in enumerate([.001, .005, .01, .05, .1]): \n",
    "    l_obj = [3.25225162, 0.12275107, l_val]\n",
    "    kernel = rbf(l_obj)\n",
    "    GP_obj = Gaussain_Process(kernel, parameter_space)\n",
    "    GP_obj.noise = .5\n",
    "    GP_obj.add_observation(X_obs, obj_val, scale=True)\n",
    "    score = GP_obj.negative_log_likelihood(GP_obj.kernel.theta)\n",
    "    print(\"manual:\\t \", score, GP_obj.kernel.theta, GP_obj.noise)\n",
    "\n",
    "    obj_mu_grid = np.zeros([0, 1])\n",
    "    obj_sd_grid = np.zeros([0, 1])\n",
    "    for input_ in unique_array:\n",
    "        input_ = input_.reshape(1, -1)\n",
    "        obj_mu_grid_, obj_sd_grid_ = GP_obj.posterior(input_)\n",
    "        obj_mu_grid = np.append(obj_mu_grid, obj_mu_grid_.reshape(-1, 1), axis=0)\n",
    "        obj_sd_grid = np.append(obj_sd_grid, obj_sd_grid_.reshape(-1, 1), axis=0)\n",
    "\n",
    "    details = set_scientific_format(459, 11, fraction=1, subplots=(1,1))\n",
    "    fig_size = details[:2]\n",
    "    tex_fonts = details[2]['font.size']\n",
    "    fig, axs = plt.subplots(1, 1, figsize=fig_size)\n",
    "\n",
    "\n",
    "    obs_index = np.isclose(X_obs[:,0], 2)\n",
    "    grid_indx = np.isclose(unique_array[:, 0], 2,\n",
    "                      rtol=1e-05, atol=1e-08, equal_nan=False)\n",
    "\n",
    "    axs.scatter(X_obs[non_opt_index, 1],\n",
    "             obj_val[non_opt_index, 0], label='Observed')\n",
    "    axs.scatter(X_obs[[[opt_index,opt_index+1,opt_index+2]], 1],\n",
    "             obj_val[[[opt_index,opt_index+1,opt_index+2]], 0], marker='x' ,label='Optimum')\n",
    "\n",
    "    axs.plot(unique_array[grid_indx, 1],\n",
    "             obj_mu_grid[grid_indx, 0], '--')\n",
    "    axs.fill_between(unique_array[grid_indx, 1],\n",
    "                           obj_mu_grid[grid_indx, 0] + 2 *\n",
    "                           obj_sd_grid[grid_indx, 0],\n",
    "                           obj_mu_grid[grid_indx, 0] - 2 *\n",
    "                           obj_sd_grid[grid_indx, 0],\n",
    "                           alpha=0.5)\n",
    "\n",
    "    axs.set_frame_on(False)\n",
    "    axs.set_xlabel(\"power (W)\")\n",
    "    axs.set_ylabel(r\"$f(\\mathbf{x})$\")\n",
    "    axs.set_xlim(power_range[0], power_range[1]+50)\n",
    "    axs.legend()\n",
    "    axs.grid(True)\n",
    "    fig.tight_layout()\n",
    "    plt.show()\n",
    "#     fig.savefig(save_fig+'/anomaly_analysis/'+str(a)+'_obj_10_p3.pdf', bbox_inches='tight', pad_inches=0)"
   ]
  },
  {
   "cell_type": "markdown",
   "id": "f25850b5",
   "metadata": {},
   "source": [
    "# Rough"
   ]
  },
  {
   "cell_type": "code",
   "execution_count": null,
   "id": "e342d7fb",
   "metadata": {
    "ExecuteTime": {
     "end_time": "2024-05-02T05:22:35.480901Z",
     "start_time": "2024-05-02T05:22:35.480881Z"
    },
    "code_folding": []
   },
   "outputs": [],
   "source": [
    "# for pw in [500]:\n",
    "#     pw_indx = power_array == pw\n",
    "#     pressure = pressure_array[pw_indx]\n",
    "#     para_bounds = np.array([[np.min(pressure),\n",
    "#                             np.max(pressure)],\n",
    "#                             [50,750]])\n",
    "#     xx = np.linspace(np.min(pressure), \n",
    "#                      np.max(pressure), \n",
    "#                      1000)\n",
    "#     xx = np.append(xx,[2.,  3.,  5.,  8., 11., 14., 17., 20., 23.])\n",
    "#     xx = np.unique(xx)\n",
    "    \n",
    "#     x_test = np.append(xx.reshape(-1,1), \n",
    "#                        np.repeat(pw, xx.shape[0]).reshape(-1,1),\n",
    "#                        axis=1\n",
    "#                       )\n",
    "    \n",
    "#     x_train = np.append(pressure.reshape(-1,1), \n",
    "#                        np.repeat(pw, pressure.shape[0]).reshape(-1,1),\n",
    "#                        axis=1\n",
    "#                       )\n",
    "    \n",
    "#     SP_stress = Spline(para_bounds, [-2000, 2000])\n",
    "#     SP_stress.add_observation(x_train, \n",
    "#                               stress_used[pw_indx])\n",
    "#     SP_stress.fit()\n",
    "\n",
    "#     stress_mu_sp = []\n",
    "#     stress_mu_sp_grad = []\n",
    "#     for input_ in x_test:\n",
    "#         mu_, mu_grad_ = SP_stress.predict(np.array(input_).reshape(1,-1))\n",
    "#         stress_mu_sp.append(mu_.item())\n",
    "#         stress_mu_sp_grad.append(mu_grad_.item())\n",
    "    \n",
    "#     stress_mu_sp = np.array(stress_mu_sp)\n",
    "#     stress_mu_sp_grad = np.array(stress_mu_sp_grad)\n",
    "\n",
    "#     plot_1D_fit(x_test[:,0], stress_mu_sp, \n",
    "#                 x_train[:,0], stress_used[pw_indx],\n",
    "#                 'stress_illustration', 'Stress, MPa')"
   ]
  },
  {
   "cell_type": "markdown",
   "id": "d1d9b86b",
   "metadata": {},
   "source": [
    "## Objective function along 2mt pressure"
   ]
  },
  {
   "cell_type": "code",
   "execution_count": null,
   "id": "face5126",
   "metadata": {
    "ExecuteTime": {
     "end_time": "2024-05-02T05:22:35.482475Z",
     "start_time": "2024-05-02T05:22:35.482454Z"
    },
    "code_folding": [
     0
    ]
   },
   "outputs": [],
   "source": [
    "# class Spline:\n",
    "\n",
    "#     def __init__(self, parameter_bound, y_bounds):\n",
    "        \n",
    "#         self.bounds = parameter_bound\n",
    "#         self.y_bounds = y_bounds\n",
    "        \n",
    "#         self.tck = None     \n",
    "       \n",
    "#         self.X_obs = None\n",
    "#         self.Y_obs = None\n",
    "        \n",
    "#         self.X_obs_std = None\n",
    "#         self.Y_obs_std = None\n",
    "#         self.scale = True\n",
    "    \n",
    "#     def reset(self):\n",
    "\n",
    "#         self.X_obs = None\n",
    "#         self.Y_obs = None\n",
    "\n",
    "#         self.X_obs_std = None\n",
    "#         self.Y_obs_std = None\n",
    "\n",
    "#         self.mu_x = None\n",
    "#         self.mu_y = None\n",
    "#         self.sd_x = None\n",
    "#         self.sd_y = None\n",
    "#         self.scale = True\n",
    "\n",
    "#     def get_scale_x(self, x):\n",
    "\n",
    "#         assert x.shape[1] == self.bounds.shape[1]\n",
    "#         # scale the input space\n",
    "#         x_std = np.copy(x)\n",
    "#         for i in range(self.bounds.shape[1]):\n",
    "#             x_std[:, i] = (x_std[:, i] - self.bounds[0, i]) / \\\n",
    "#                 (self.bounds[1, i] - self.bounds[0, i])\n",
    "\n",
    "#         return x_std\n",
    "\n",
    "#     def get_scale_y(self, y):\n",
    "\n",
    "#         # scale the input space\n",
    "#         y_std = np.copy(y)\n",
    "#         for i in range(self.mu_y.shape[1]):\n",
    "#             if(self.sd_y[:, i] != 0):\n",
    "#                 y_std[:, i] = (y_std[:, i] - self.mu_y[:, i]) / self.sd_y[:, i]\n",
    "\n",
    "#         return y_std\n",
    "\n",
    "#     def scale_observations(self):\n",
    "\n",
    "#         self.X_obs_std = self.get_scale_x(self.X_obs)\n",
    "\n",
    "#         Ny = self.Y_obs.shape[1]\n",
    "#         self.mu_y = np.mean(self.Y_obs, axis=0).reshape(Ny, 1)\n",
    "#         self.sd_y = np.std(self.Y_obs, axis=0).reshape(Ny, 1)\n",
    "#         self.Y_obs_std = self.get_scale_y(self.Y_obs)\n",
    "\n",
    "#     def add_observation(self, x, y, scale=True):\n",
    "#         \"\"\"\n",
    "#             Adding new data to the model\n",
    "\n",
    "#         \"\"\"\n",
    "#         x = x.reshape(x.shape[0], -1)\n",
    "#         y = y.reshape(y.shape[0], -1)\n",
    "\n",
    "#         if self.X_obs is None:\n",
    "#             self.X_obs = np.array(x).reshape(-1, x.shape[1])\n",
    "#             self.Y_obs = np.array(y).reshape(-1, y.shape[1])\n",
    "\n",
    "#         else:\n",
    "#             self.X_obs = np.append(self.X_obs,\n",
    "#                                    np.array(x).reshape(-1, x.shape[1]), axis=0)\n",
    "#             self.Y_obs = np.append(self.Y_obs,\n",
    "#                                    np.array(y).reshape(-1, y.shape[1]), axis=0)\n",
    "\n",
    "#         if(scale):\n",
    "#             self.scale_observations()\n",
    "#         else:\n",
    "#             self.scale = False\n",
    "#             self.X_obs_std = self.X_obs\n",
    "#             self.Y_obs_std = self.Y_obs\n",
    "\n",
    "#     def invscale_x(self, x):\n",
    "\n",
    "#         # scale the input space\n",
    "#         x_std = np.copy(x)\n",
    "#         for i in range(self.bounds.shape[1]):\n",
    "#             x_std[:, i] = x_std[:, i] * \\\n",
    "#                 (self.bounds[1, i] - self.bounds[0, i]) + self.bounds[0, i]\n",
    "\n",
    "#         return x_std\n",
    "\n",
    "#     def invscale_y(self, y):\n",
    "\n",
    "#         # scale the input space\n",
    "#         y_std = np.copy(y)\n",
    "#         for i in range(self.mu_y.shape[1]):\n",
    "#             if(self.sd_y[:, i] != 0):\n",
    "#                 y_std[:, i] = y_std[:, i] * self.sd_y[:, i] + self.mu_y[:, i]\n",
    "\n",
    "#         return y_std\n",
    "\n",
    "#     def fit(self):\n",
    "             \n",
    "#         self.txk = sp.interpolate.bisplrep(self.X_obs_std[:,0], self.X_obs_std[:,1], \n",
    "#                                       self.Y_obs_std, \n",
    "#                                       xb=0, xe=1,\n",
    "#                                       yb=self.y_bounds[0], ye=self.y_bounds[1]\n",
    "#                                      )\n",
    "\n",
    "#     def predict(self, x):\n",
    "        \n",
    "#         x = x.reshape(x.shape[0],-1)\n",
    "#         assert x.shape[1] == self.X_obs.shape[1]\n",
    "                \n",
    "#         # scale the test input\n",
    "#         # scale the test input\n",
    "#         x_std = np.copy(x)\n",
    "#         if(self.scale):\n",
    "#             x_std = self.get_scale_x(x_std)\n",
    "            \n",
    "#         val = sp.interpolate.bisplev(x_std[:,0], x_std[:,1],self.txk)\n",
    "#         val_grad = sp.interpolate.bisplev(x_std[:,0], x_std[:,1],self.txk, dx=1, dy=0)\n",
    "        \n",
    "#         if(self.scale):\n",
    "#             val = val * self.sd_y + self.mu_y\n",
    "#             val_grad = val_grad * self.sd_y + self.mu_y\n",
    "        \n",
    "#         val_grad = val_grad / (self.bounds[1,0] - self.bounds[0,0])\n",
    "        \n",
    "#         return val, val_grad"
   ]
  },
  {
   "cell_type": "code",
   "execution_count": null,
   "id": "fff41a73",
   "metadata": {
    "ExecuteTime": {
     "end_time": "2024-05-02T05:22:35.483446Z",
     "start_time": "2024-05-02T05:22:35.483436Z"
    }
   },
   "outputs": [],
   "source": [
    "import pickle\n",
    "from run import stress_obj\n",
    "\n",
    "optimum = []\n",
    "\n",
    "X_obs = np.load(RESULT_DIR + \"/\" + str(10) + \"_x_obs.npy\")\n",
    "y_stress_obs = np.load(RESULT_DIR + \"/\" + str(10) + \"_y_stress_obs.npy\")\n",
    "y_resist_obs = np.load(RESULT_DIR + \"/\" + str(10) + \"_y_resist_obs.npy\")\n",
    "    \n",
    "with open(RESULT_DIR + \"/\" + str(10) + '_gp_objects.pkl', 'rb') as file:\n",
    "    data = pickle.load(file)\n",
    "    GP_stress = data['stress']\n",
    "    _, _, stress_mu_grad = GP_stress.posterior(X_obs, calc_grad=True)\n",
    "    obj_val, min_grad_criteria, pos_grad_criteria, stress_cutoff, resistivity_cutoff  = stress_obj(y_stress_obs, \n",
    "                                                                                                   stress_mu_grad, \n",
    "                                                                                                   y_resist_obs)\n",
    "    \n",
    "    optimum = np.append(X_obs, obj_val, axis=1)    \n",
    "\n",
    "_, first_index = np.unique(X_obs, axis=0, return_index=True)\n",
    "\n",
    "optimum[first_index]\n",
    "\n",
    "press_index = np.isclose(X_obs[first_index,0], 2.0) \n",
    "aa = optimum[first_index][press_index]\n",
    "\n",
    "plt.scatter(aa[:,1], aa[:,2])\n",
    "plt.show()"
   ]
  }
 ],
 "metadata": {
  "hide_input": false,
  "kernelspec": {
   "display_name": "Python [conda env:mlenv2]",
   "language": "python",
   "name": "conda-env-mlenv2-py"
  },
  "language_info": {
   "codemirror_mode": {
    "name": "ipython",
    "version": 3
   },
   "file_extension": ".py",
   "mimetype": "text/x-python",
   "name": "python",
   "nbconvert_exporter": "python",
   "pygments_lexer": "ipython3",
   "version": "3.9.2"
  },
  "latex_envs": {
   "LaTeX_envs_menu_present": true,
   "autoclose": true,
   "autocomplete": false,
   "bibliofile": "biblio.bib",
   "cite_by": "apalike",
   "current_citInitial": 1,
   "eqLabelWithNumbers": true,
   "eqNumInitial": 1,
   "hotkeys": {
    "equation": "Ctrl-E",
    "itemize": "Ctrl-I"
   },
   "labels_anchors": false,
   "latex_user_defs": false,
   "report_style_numbering": false,
   "user_envs_cfg": false
  },
  "notify_time": "5",
  "toc": {
   "base_numbering": 1,
   "nav_menu": {},
   "number_sections": true,
   "sideBar": true,
   "skip_h1_title": false,
   "title_cell": "Table of Contents",
   "title_sidebar": "Contents",
   "toc_cell": false,
   "toc_position": {},
   "toc_section_display": true,
   "toc_window_display": false
  },
  "varInspector": {
   "cols": {
    "lenName": 16,
    "lenType": 16,
    "lenVar": 40
   },
   "kernels_config": {
    "python": {
     "delete_cmd_postfix": "",
     "delete_cmd_prefix": "del ",
     "library": "var_list.py",
     "varRefreshCmd": "print(var_dic_list())"
    },
    "r": {
     "delete_cmd_postfix": ") ",
     "delete_cmd_prefix": "rm(",
     "library": "var_list.r",
     "varRefreshCmd": "cat(var_dic_list()) "
    }
   },
   "oldHeight": 330.51666600000004,
   "position": {
    "height": "40px",
    "left": "867.333px",
    "right": "20px",
    "top": "120px",
    "width": "344.667px"
   },
   "types_to_exclude": [
    "module",
    "function",
    "builtin_function_or_method",
    "instance",
    "_Feature"
   ],
   "varInspector_section_display": "none",
   "window_display": false
  }
 },
 "nbformat": 4,
 "nbformat_minor": 5
}
